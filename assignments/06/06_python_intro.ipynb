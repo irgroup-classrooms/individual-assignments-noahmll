{
 "cells": [
  {
   "cell_type": "markdown",
   "metadata": {},
   "source": [
    "# DIS08 / OR92 Data Modeling: Python - Introduction (Setup, file management, etc.)"
   ]
  },
  {
   "cell_type": "markdown",
   "metadata": {},
   "source": [
    "In this lecture, we’ll cover and recap the basics of Python programming, including:\n",
    "\n",
    "- Python data structures: lists, tuples, dictionaries, and sets.\n",
    "- Basic file management: reading from and writing to files.\n",
    "- String handling: manipulation of text data and regular expressions.\n",
    "\n",
    "In the lab assignments, you will setup your Python development environment, rerun this notebook, and get started with the `pandas` library.\n",
    "\n",
    "If you would like to study Python more in-depth, we recommend the book [Automate the Boring Stuff With Python](https://automatetheboringstuff.com/). This book also inspired some of the contents in this notebook."
   ]
  },
  {
   "cell_type": "markdown",
   "metadata": {},
   "source": [
    "1. Basic Syntax"
   ]
  },
  {
   "cell_type": "code",
   "execution_count": null,
   "metadata": {},
   "outputs": [],
   "source": [
    "# This is a comment in Python"
   ]
  },
  {
   "cell_type": "code",
   "execution_count": null,
   "metadata": {},
   "outputs": [],
   "source": [
    "# Print \"Hello, World!\" to the console\n",
    "print(\"Hello, World!\")  "
   ]
  },
  {
   "cell_type": "code",
   "execution_count": null,
   "metadata": {},
   "outputs": [],
   "source": [
    "# Variable assignment\n",
    "x = 5  \n",
    "x"
   ]
  },
  {
   "cell_type": "markdown",
   "metadata": {},
   "source": [
    "2. Data Types"
   ]
  },
  {
   "cell_type": "code",
   "execution_count": null,
   "metadata": {},
   "outputs": [],
   "source": [
    "# Integer type\n",
    "integer_num = 10\n",
    "type(integer_num)"
   ]
  },
  {
   "cell_type": "code",
   "execution_count": null,
   "metadata": {},
   "outputs": [],
   "source": [
    "# Float type\n",
    "float_num = 3.14\n",
    "type(float_num)"
   ]
  },
  {
   "cell_type": "code",
   "execution_count": null,
   "metadata": {},
   "outputs": [],
   "source": [
    "# String type\n",
    "str_val = \"Python\"\n",
    "type(str_val)"
   ]
  },
  {
   "cell_type": "markdown",
   "metadata": {},
   "source": [
    "3. Basic Operators"
   ]
  },
  {
   "cell_type": "code",
   "execution_count": null,
   "metadata": {},
   "outputs": [],
   "source": [
    "a = 10\n",
    "b = 3"
   ]
  },
  {
   "cell_type": "code",
   "execution_count": null,
   "metadata": {},
   "outputs": [],
   "source": [
    "# Addition\n",
    "print(a + b)"
   ]
  },
  {
   "cell_type": "code",
   "execution_count": null,
   "metadata": {},
   "outputs": [],
   "source": [
    "# Subtraction\n",
    "print(a - b)"
   ]
  },
  {
   "cell_type": "code",
   "execution_count": null,
   "metadata": {},
   "outputs": [],
   "source": [
    "# Multiplication\n",
    "print(a * b)"
   ]
  },
  {
   "cell_type": "code",
   "execution_count": null,
   "metadata": {},
   "outputs": [],
   "source": [
    "# Division\n",
    "print(a / b)"
   ]
  },
  {
   "cell_type": "code",
   "execution_count": null,
   "metadata": {},
   "outputs": [],
   "source": [
    "# Modulus (remainder)\n",
    "print(a % b)"
   ]
  },
  {
   "cell_type": "code",
   "execution_count": null,
   "metadata": {},
   "outputs": [],
   "source": [
    "# Exponentiation\n",
    "print(a ** b)"
   ]
  },
  {
   "cell_type": "markdown",
   "metadata": {},
   "source": [
    "4. Control Structures"
   ]
  },
  {
   "cell_type": "code",
   "execution_count": null,
   "metadata": {},
   "outputs": [],
   "source": [
    "# If-Else statement\n",
    "x = 5\n",
    "if x > 0:\n",
    "    print(\"Positive\")\n",
    "elif x < 0:\n",
    "    print(\"Negative\")\n",
    "else:\n",
    "    print(\"Zero\")\n"
   ]
  },
  {
   "cell_type": "code",
   "execution_count": null,
   "metadata": {},
   "outputs": [],
   "source": [
    "# For loop\n",
    "for i in range(5):\n",
    "    print(i)"
   ]
  },
  {
   "cell_type": "code",
   "execution_count": null,
   "metadata": {},
   "outputs": [],
   "source": [
    "# While loop\n",
    "i = 0\n",
    "while i < 5:\n",
    "    print(i)\n",
    "    i += 1"
   ]
  },
  {
   "cell_type": "markdown",
   "metadata": {},
   "source": [
    "## Data Structures"
   ]
  },
  {
   "cell_type": "code",
   "execution_count": null,
   "metadata": {},
   "outputs": [],
   "source": [
    "# List\n",
    "my_list = [1, 2, 3, 4, 5]\n",
    "print(my_list[0])  # Accessing elements\n",
    "\n",
    "# Tuple (immutable list)\n",
    "my_tuple = (6, 7, 8)\n",
    "print(my_tuple[0])\n",
    "\n",
    "# Dictionary (key-value pairs)\n",
    "my_dict = {\"name\": \"John\", \"age\": 30, \"city\": \"New York\"}\n",
    "print(my_dict[\"name\"])\n",
    "\n",
    "# Set\n",
    "my_set = {\"apple\", \"banana\", \"cherry\"}\n",
    "print(my_set)\n",
    "\n"
   ]
  },
  {
   "cell_type": "markdown",
   "metadata": {},
   "source": [
    "A list is a collection which is ordered and changeable. It allows duplicate members."
   ]
  },
  {
   "cell_type": "code",
   "execution_count": null,
   "metadata": {},
   "outputs": [],
   "source": [
    "# Creating a list\n",
    "fruits = [\"apple\", \"banana\", \"cherry\"]\n",
    "print(fruits)\n",
    "\n",
    "# Adding an item\n",
    "fruits.append(\"orange\")\n",
    "print(fruits)\n",
    "\n",
    "# Accessing items\n",
    "print(fruits[1])\n",
    "\n",
    "# Removing an item\n",
    "fruits.remove(\"banana\")\n",
    "print(fruits)"
   ]
  },
  {
   "cell_type": "markdown",
   "metadata": {},
   "source": [
    "A tuple is a collection which is ordered but unchangeable (immutable). It allows duplicate members."
   ]
  },
  {
   "cell_type": "code",
   "execution_count": null,
   "metadata": {},
   "outputs": [],
   "source": [
    "# Creating a tuple\n",
    "my_tuple = (\"apple\", \"banana\", \"cherry\")\n",
    "print(my_tuple)\n",
    "\n",
    "# Accessing items\n",
    "print(my_tuple[1])\n",
    "\n",
    "# Tuples are immutable, so the following code will cause an error:\n",
    "# my_tuple[1] = \"orange\""
   ]
  },
  {
   "cell_type": "markdown",
   "metadata": {},
   "source": [
    "A dictionary is a collection which is unordered, changeable, and indexed. It does not allow duplicates."
   ]
  },
  {
   "cell_type": "code",
   "execution_count": null,
   "metadata": {},
   "outputs": [],
   "source": [
    "# Creating a dictionary\n",
    "person = {\n",
    "    \"name\": \"Alice\",\n",
    "    \"age\": 25,\n",
    "    \"city\": \"New York\"\n",
    "}\n",
    "print(person)\n",
    "\n",
    "# Accessing values\n",
    "print(person[\"name\"])\n",
    "\n",
    "# Modifying a value\n",
    "person[\"age\"] = 26\n",
    "print(person)"
   ]
  },
  {
   "cell_type": "markdown",
   "metadata": {},
   "source": [
    "6. Functions"
   ]
  },
  {
   "cell_type": "code",
   "execution_count": null,
   "metadata": {},
   "outputs": [],
   "source": [
    "def greet(name):\n",
    "    \"\"\"This function greets the person passed in as parameter\"\"\"\n",
    "    print(f\"Hello, {name}!\")\n",
    "\n",
    "greet(\"Alice\")  # Output: Hello, Alice!"
   ]
  },
  {
   "cell_type": "markdown",
   "metadata": {},
   "source": [
    "A set is a collection which is unordered, unindexed, and does not allow duplicate members."
   ]
  },
  {
   "cell_type": "code",
   "execution_count": null,
   "metadata": {},
   "outputs": [],
   "source": [
    "# Creating a set\n",
    "my_set = {\"apple\", \"banana\", \"cherry\"}\n",
    "print(my_set)\n",
    "\n",
    "# Adding an item\n",
    "my_set.add(\"orange\")\n",
    "print(my_set)\n",
    "\n",
    "# Removing an item\n",
    "my_set.remove(\"banana\")\n",
    "print(my_set)"
   ]
  },
  {
   "cell_type": "markdown",
   "metadata": {},
   "source": [
    "## Basic File Management in Python"
   ]
  },
  {
   "cell_type": "markdown",
   "metadata": {},
   "source": [
    "You can also use many command line tools in a Jupyter notebook. We use `echo` to create a first text file."
   ]
  },
  {
   "cell_type": "code",
   "execution_count": null,
   "metadata": {},
   "outputs": [],
   "source": [
    "!echo \"This is the beginning of a new file!\\n\" >> example.txt"
   ]
  },
  {
   "cell_type": "markdown",
   "metadata": {},
   "source": [
    "To read a file, use the open() function in reading mode ('r')."
   ]
  },
  {
   "cell_type": "code",
   "execution_count": null,
   "metadata": {},
   "outputs": [],
   "source": [
    "# Reading from a file\n",
    "file = open(\"example.txt\", \"r\")\n",
    "\n",
    "# Read the entire content of the file\n",
    "content = file.read()\n",
    "print(content)\n",
    "\n",
    "# Always remember to close the file after you're done\n",
    "file.close()"
   ]
  },
  {
   "cell_type": "markdown",
   "metadata": {},
   "source": [
    "To write to a file, use the open() function in write mode ('w')."
   ]
  },
  {
   "cell_type": "code",
   "execution_count": null,
   "metadata": {},
   "outputs": [],
   "source": [
    "# Writing to a file\n",
    "file = open(\"example.txt\", \"w\")\n",
    "file.write(\"Hello, World!\\nThis is a new line.\")\n",
    "file.close()"
   ]
  },
  {
   "cell_type": "markdown",
   "metadata": {},
   "source": [
    "You can also append data to an existing file using append mode ('a')."
   ]
  },
  {
   "cell_type": "code",
   "execution_count": null,
   "metadata": {},
   "outputs": [],
   "source": [
    "# Appending to a file\n",
    "file = open(\"example.txt\", \"a\")\n",
    "file.write(\"\\nThis is an appended line.\")\n",
    "file.close()"
   ]
  },
  {
   "cell_type": "markdown",
   "metadata": {},
   "source": [
    "It’s a good practice to use the `with` statement when working with files to ensure the file is properly closed after the operations."
   ]
  },
  {
   "cell_type": "code",
   "execution_count": null,
   "metadata": {},
   "outputs": [],
   "source": [
    "# Using 'with' statement to open and read a file\n",
    "with open(\"example.txt\", \"r\") as file:\n",
    "    content = file.read()\n",
    "    print(content)"
   ]
  },
  {
   "cell_type": "markdown",
   "metadata": {},
   "source": [
    "## String Handling in Python"
   ]
  },
  {
   "cell_type": "markdown",
   "metadata": {},
   "source": [
    "Python provides a variety of methods for manipulating and handling strings."
   ]
  },
  {
   "cell_type": "code",
   "execution_count": null,
   "metadata": {},
   "outputs": [],
   "source": [
    "# Concatenating strings\n",
    "greeting = \"Hello\"\n",
    "name = \"Alice\"\n",
    "message = greeting + \", \" + name + \"!\"\n",
    "print(message)"
   ]
  },
  {
   "cell_type": "markdown",
   "metadata": {},
   "source": [
    "**String Formatting:** You can format strings using the format() method or f-strings (in Python 3.6+)."
   ]
  },
  {
   "cell_type": "code",
   "execution_count": null,
   "metadata": {},
   "outputs": [],
   "source": [
    "# Using format method\n",
    "message = \"Hello, {}!\".format(name)\n",
    "print(message)\n",
    "\n",
    "# Using f-strings (Python 3.6+)\n",
    "message = f\"Hello, {name}!\"\n",
    "print(message)"
   ]
  },
  {
   "cell_type": "markdown",
   "metadata": {},
   "source": [
    "**String Methods:** Some common string methods in Python include upper(), lower(), replace(), and split()."
   ]
  },
  {
   "cell_type": "code",
   "execution_count": 1,
   "metadata": {},
   "outputs": [
    {
     "name": "stdout",
     "output_type": "stream",
     "text": [
      "HELLO, WORLD!\n",
      "hello, world!\n",
      "Hello, Python!\n",
      "['Hello', 'World!']\n"
     ]
    }
   ],
   "source": [
    "# Changing case\n",
    "text = \"Hello, World!\"\n",
    "print(text.upper())\n",
    "print(text.lower())\n",
    "\n",
    "# Replacing parts of a string\n",
    "print(text.replace(\"World\", \"Python\"))\n",
    "\n",
    "# Splitting a string\n",
    "words = text.split(\", \")\n",
    "print(words)"
   ]
  },
  {
   "cell_type": "markdown",
   "metadata": {},
   "source": [
    "**Regular expressions:** The re.search() function searches for a match in a string."
   ]
  },
  {
   "cell_type": "code",
   "execution_count": 4,
   "metadata": {},
   "outputs": [
    {
     "name": "stdout",
     "output_type": "stream",
     "text": [
      "Match found!\n"
     ]
    }
   ],
   "source": [
    "import re\n",
    "\n",
    "# Search for the word 'Python' in a string\n",
    "text = \"Welcome to Python programming!\"\n",
    "pattern = \"Python\"\n",
    "\n",
    "# Search for the pattern\n",
    "match = re.search(pattern, text)\n",
    "\n",
    "# The re.search() function looks for the word “Python” in the text. If found, it returns a match object, otherwise None.\n",
    "if match:\n",
    "    print(\"Match found!\")\n",
    "else:\n",
    "    print(\"No match.\")"
   ]
  },
  {
   "cell_type": "markdown",
   "metadata": {},
   "source": [
    "## Quiz time!"
   ]
  },
  {
   "cell_type": "markdown",
   "metadata": {},
   "source": [
    "**Question:** What will be the output of the following code?"
   ]
  },
  {
   "cell_type": "code",
   "execution_count": null,
   "metadata": {},
   "outputs": [],
   "source": [
    "fruits = [\"apple\", \"banana\", \"cherry\"]\n",
    "fruits.append(\"orange\")\n",
    "print(fruits[1])"
   ]
  },
  {
   "cell_type": "markdown",
   "metadata": {},
   "source": [
    "A) \"apple\"  \n",
    "B) \"banana\"  \n",
    "C) \"cherry\"  \n",
    "D) [\"apple\", \"banana\", \"cherry\", \"orange\"]"
   ]
  },
  {
   "cell_type": "markdown",
   "metadata": {},
   "source": [
    "**Question:** What error will the following code produce?"
   ]
  },
  {
   "cell_type": "code",
   "execution_count": null,
   "metadata": {},
   "outputs": [],
   "source": [
    "colors = (\"red\", \"green\", \"blue\")\n",
    "colors[1] = \"yellow\""
   ]
  },
  {
   "cell_type": "markdown",
   "metadata": {},
   "source": [
    "A) TypeError: 'tuple' object does not support item assignment  \n",
    "B) IndexError: tuple index out of range  \n",
    "C) No error, it works fine  \n",
    "D) AttributeError: 'tuple' object has no attribute 'append'"
   ]
  },
  {
   "cell_type": "markdown",
   "metadata": {},
   "source": [
    "**Question:** What will be the value of car[\"year\"] after running the following code?"
   ]
  },
  {
   "cell_type": "code",
   "execution_count": null,
   "metadata": {},
   "outputs": [],
   "source": [
    "car = {\n",
    "    \"brand\": \"Ford\",\n",
    "    \"model\": \"Mustang\",\n",
    "    \"year\": 1964\n",
    "}\n",
    "car[\"year\"] = 2022\n",
    "print(car[\"year\"])"
   ]
  },
  {
   "cell_type": "markdown",
   "metadata": {},
   "source": [
    "A) 1964  \n",
    "B) 2022  \n",
    "C) None  \n",
    "D) KeyError: 'year'"
   ]
  },
  {
   "cell_type": "markdown",
   "metadata": {},
   "source": [
    "**Question:** What will happen if the following code is executed, and example.txt doesn’t exist in the directory?"
   ]
  },
  {
   "cell_type": "code",
   "execution_count": null,
   "metadata": {},
   "outputs": [],
   "source": [
    "with open(\"example.txt\", \"r\") as file:\n",
    "    content = file.read()\n",
    "    print(content)"
   ]
  },
  {
   "cell_type": "markdown",
   "metadata": {},
   "source": [
    "A) It will create a new file named example.txt.  \n",
    "B) It will throw a FileNotFoundError.  \n",
    "C) It will print an empty string.  \n",
    "D) It will print None.  "
   ]
  },
  {
   "cell_type": "markdown",
   "metadata": {},
   "source": [
    "**Question:** What will be the value of message in the following code?"
   ]
  },
  {
   "cell_type": "code",
   "execution_count": null,
   "metadata": {},
   "outputs": [],
   "source": [
    "name = \"Alice\"\n",
    "greeting = \"Hello\"\n",
    "message = greeting + \", \" + name + \"!\"\n",
    "print(message)"
   ]
  },
  {
   "cell_type": "markdown",
   "metadata": {},
   "source": [
    "A) \"Hello Alice\"  \n",
    "B) \"Hello, Alice!\"  \n",
    "C) \"Hello Alice!\"  \n",
    "D) \", Alice!\""
   ]
  },
  {
   "cell_type": "markdown",
   "metadata": {},
   "source": [
    "**Question:** What will the following code output?"
   ]
  },
  {
   "cell_type": "code",
   "execution_count": null,
   "metadata": {},
   "outputs": [],
   "source": [
    "text = \"Welcome to Python\"\n",
    "print(text.upper())"
   ]
  },
  {
   "cell_type": "markdown",
   "metadata": {},
   "source": [
    "A) WELCOME TO PYTHON  \n",
    "B) welcome to python  \n",
    "C) Welcome To Python  \n",
    "D) Welcome to python"
   ]
  },
  {
   "cell_type": "markdown",
   "metadata": {},
   "source": [
    "**Question:** What happens if you try to add a duplicate item to a set?"
   ]
  },
  {
   "cell_type": "code",
   "execution_count": null,
   "metadata": {},
   "outputs": [],
   "source": [
    "my_set = {\"apple\", \"banana\", \"cherry\"}\n",
    "my_set.add(\"banana\")\n",
    "print(my_set)"
   ]
  },
  {
   "cell_type": "markdown",
   "metadata": {},
   "source": [
    "A) The set will now contain two \"banana\" items.  \n",
    "B) The set will raise an error.  \n",
    "C) The set will remain unchanged.   \n",
    "D) The set will reorder itself."
   ]
  },
  {
   "cell_type": "markdown",
   "metadata": {},
   "source": [
    "**Question:** What is the correct way to format a string using f-strings in the following code?"
   ]
  },
  {
   "cell_type": "code",
   "execution_count": null,
   "metadata": {},
   "outputs": [],
   "source": [
    "name = \"Alice\"\n",
    "age = 25\n",
    "message = f\"My name is ... and I am ... years old.\"\n",
    "print(message)"
   ]
  },
  {
   "cell_type": "markdown",
   "metadata": {},
   "source": [
    "A) f\"My name is {name} and I am {age} years old.\"  \n",
    "B) f\"My name is name and I am age years old.\"  \n",
    "C) \"My name is {name} and I am {age} years old.\"  \n",
    "D) \"My name is name and I am age years old.\""
   ]
  },
  {
   "cell_type": "markdown",
   "metadata": {},
   "source": [
    "**Question:** What will be the output of the following code?"
   ]
  },
  {
   "cell_type": "code",
   "execution_count": 5,
   "metadata": {},
   "outputs": [
    {
     "name": "stdout",
     "output_type": "stream",
     "text": [
      "40\n"
     ]
    }
   ],
   "source": [
    "numbers = [10, 20, 30, 40, 50]\n",
    "print(numbers[-2])"
   ]
  },
  {
   "cell_type": "markdown",
   "metadata": {},
   "source": [
    "A) 20  \n",
    "B) 40  \n",
    "C) 30  \n",
    "D) 50\n"
   ]
  },
  {
   "cell_type": "markdown",
   "metadata": {},
   "source": [
    "**Question:** What will the following code output?"
   ]
  },
  {
   "cell_type": "code",
   "execution_count": 6,
   "metadata": {},
   "outputs": [
    {
     "name": "stdout",
     "output_type": "stream",
     "text": [
      "False\n"
     ]
    }
   ],
   "source": [
    "person = {\n",
    "    \"name\": \"John\",\n",
    "    \"age\": 30\n",
    "}\n",
    "print(\"height\" in person)"
   ]
  },
  {
   "cell_type": "markdown",
   "metadata": {},
   "source": [
    "A) True  \n",
    "B) False  \n",
    "C) None  \n",
    "D) KeyError: 'height'"
   ]
  },
  {
   "cell_type": "markdown",
   "metadata": {},
   "source": [
    "## Lab Assignments\n",
    "\n",
    "Download this notebook from Moodle and rerun the examples from today's lecture. If you can execute all of the code cells above you are done! The setup guide below will help you to get started!\n",
    "\n",
    "Once, you have setup your Python/Jupyter environment, please do the following task:\n",
    "\n",
    "- Download this [dataset](https://librarycarpentry.org/lc-python-intro/files/data.zip) and extract it (do not commit it to this repository).\n",
    "- Get familiar with the [pandas](https://pandas.pydata.org/) library and install it in your Python environment.\n",
    "- Load one or more of the CSV files in the data/ directory as a DataFrame.\n",
    "- Use the functions `info()`, `head()`, `tail()`, `describe()`, and the variable `columns` to get some basic information about the data. Also document and describe the outputs.\n",
    "- How do you get the first/last ten rows of the DataFrame?\n",
    "- How do you get the rows between row 30 and row 40?\n",
    "- How do you get a specific column, e.g., 'year'? What kind of `type()` has the column?\n",
    "- What is the `*.pkl` file? How do load it into your program and what are the data contents in it?\n",
    "- What is the purpose of `.loc()` and `.iloc()`?\n",
    "- How do you sort values in a column?\n",
    "\n",
    "When you have completed the tasks, please commit this notebook to your GitHub repository in the directory `assignments/06/`.\n"
   ]
  },
  {
   "cell_type": "code",
   "execution_count": 37,
   "metadata": {},
   "outputs": [
    {
     "data": {
      "text/html": [
       "<div>\n",
       "<style scoped>\n",
       "    .dataframe tbody tr th:only-of-type {\n",
       "        vertical-align: middle;\n",
       "    }\n",
       "\n",
       "    .dataframe tbody tr th {\n",
       "        vertical-align: top;\n",
       "    }\n",
       "\n",
       "    .dataframe thead th {\n",
       "        text-align: right;\n",
       "    }\n",
       "</style>\n",
       "<table border=\"1\" class=\"dataframe\">\n",
       "  <thead>\n",
       "    <tr style=\"text-align: right;\">\n",
       "      <th></th>\n",
       "      <th>branch</th>\n",
       "      <th>address</th>\n",
       "      <th>city</th>\n",
       "      <th>zip code</th>\n",
       "      <th>january</th>\n",
       "      <th>february</th>\n",
       "      <th>march</th>\n",
       "      <th>april</th>\n",
       "      <th>may</th>\n",
       "      <th>june</th>\n",
       "      <th>july</th>\n",
       "      <th>august</th>\n",
       "      <th>september</th>\n",
       "      <th>october</th>\n",
       "      <th>november</th>\n",
       "      <th>december</th>\n",
       "      <th>ytd</th>\n",
       "      <th>year</th>\n",
       "    </tr>\n",
       "  </thead>\n",
       "  <tbody>\n",
       "    <tr>\n",
       "      <th>0</th>\n",
       "      <td>Albany Park</td>\n",
       "      <td>5150 N. Kimball Ave.</td>\n",
       "      <td>Chicago</td>\n",
       "      <td>60625.0</td>\n",
       "      <td>8427</td>\n",
       "      <td>7023</td>\n",
       "      <td>9702</td>\n",
       "      <td>9344</td>\n",
       "      <td>8865</td>\n",
       "      <td>11650</td>\n",
       "      <td>11778</td>\n",
       "      <td>11306</td>\n",
       "      <td>10466</td>\n",
       "      <td>10997</td>\n",
       "      <td>10567</td>\n",
       "      <td>9934</td>\n",
       "      <td>120059</td>\n",
       "      <td>2011</td>\n",
       "    </tr>\n",
       "    <tr>\n",
       "      <th>1</th>\n",
       "      <td>Altgeld</td>\n",
       "      <td>13281 S. Corliss Ave.</td>\n",
       "      <td>Chicago</td>\n",
       "      <td>60827.0</td>\n",
       "      <td>1258</td>\n",
       "      <td>708</td>\n",
       "      <td>854</td>\n",
       "      <td>804</td>\n",
       "      <td>816</td>\n",
       "      <td>870</td>\n",
       "      <td>713</td>\n",
       "      <td>480</td>\n",
       "      <td>702</td>\n",
       "      <td>927</td>\n",
       "      <td>787</td>\n",
       "      <td>692</td>\n",
       "      <td>9611</td>\n",
       "      <td>2011</td>\n",
       "    </tr>\n",
       "    <tr>\n",
       "      <th>2</th>\n",
       "      <td>Archer Heights</td>\n",
       "      <td>5055 S. Archer Ave.</td>\n",
       "      <td>Chicago</td>\n",
       "      <td>60632.0</td>\n",
       "      <td>8104</td>\n",
       "      <td>6899</td>\n",
       "      <td>9329</td>\n",
       "      <td>9124</td>\n",
       "      <td>7472</td>\n",
       "      <td>8314</td>\n",
       "      <td>8116</td>\n",
       "      <td>9177</td>\n",
       "      <td>9033</td>\n",
       "      <td>9709</td>\n",
       "      <td>8809</td>\n",
       "      <td>7865</td>\n",
       "      <td>101951</td>\n",
       "      <td>2011</td>\n",
       "    </tr>\n",
       "    <tr>\n",
       "      <th>3</th>\n",
       "      <td>Austin</td>\n",
       "      <td>5615 W. Race Ave.</td>\n",
       "      <td>Chicago</td>\n",
       "      <td>60644.0</td>\n",
       "      <td>1755</td>\n",
       "      <td>1316</td>\n",
       "      <td>1942</td>\n",
       "      <td>2200</td>\n",
       "      <td>2133</td>\n",
       "      <td>2359</td>\n",
       "      <td>2080</td>\n",
       "      <td>2405</td>\n",
       "      <td>2417</td>\n",
       "      <td>2571</td>\n",
       "      <td>2233</td>\n",
       "      <td>2116</td>\n",
       "      <td>25527</td>\n",
       "      <td>2011</td>\n",
       "    </tr>\n",
       "    <tr>\n",
       "      <th>4</th>\n",
       "      <td>Austin-Irving</td>\n",
       "      <td>6100 W. Irving Park Rd.</td>\n",
       "      <td>Chicago</td>\n",
       "      <td>60634.0</td>\n",
       "      <td>12593</td>\n",
       "      <td>11791</td>\n",
       "      <td>14807</td>\n",
       "      <td>14382</td>\n",
       "      <td>11754</td>\n",
       "      <td>14402</td>\n",
       "      <td>14605</td>\n",
       "      <td>15164</td>\n",
       "      <td>14306</td>\n",
       "      <td>15357</td>\n",
       "      <td>14069</td>\n",
       "      <td>12404</td>\n",
       "      <td>165634</td>\n",
       "      <td>2011</td>\n",
       "    </tr>\n",
       "    <tr>\n",
       "      <th>...</th>\n",
       "      <td>...</td>\n",
       "      <td>...</td>\n",
       "      <td>...</td>\n",
       "      <td>...</td>\n",
       "      <td>...</td>\n",
       "      <td>...</td>\n",
       "      <td>...</td>\n",
       "      <td>...</td>\n",
       "      <td>...</td>\n",
       "      <td>...</td>\n",
       "      <td>...</td>\n",
       "      <td>...</td>\n",
       "      <td>...</td>\n",
       "      <td>...</td>\n",
       "      <td>...</td>\n",
       "      <td>...</td>\n",
       "      <td>...</td>\n",
       "      <td>...</td>\n",
       "    </tr>\n",
       "    <tr>\n",
       "      <th>958</th>\n",
       "      <td>Chinatown</td>\n",
       "      <td>2100 S. Wentworth Ave.</td>\n",
       "      <td>Chicago</td>\n",
       "      <td>60616.0</td>\n",
       "      <td>4795</td>\n",
       "      <td>4258</td>\n",
       "      <td>5316</td>\n",
       "      <td>5343</td>\n",
       "      <td>4791</td>\n",
       "      <td>5367</td>\n",
       "      <td>5477</td>\n",
       "      <td>5362</td>\n",
       "      <td>4991</td>\n",
       "      <td>4847</td>\n",
       "      <td>4035</td>\n",
       "      <td>3957</td>\n",
       "      <td>58539</td>\n",
       "      <td>2022</td>\n",
       "    </tr>\n",
       "    <tr>\n",
       "      <th>959</th>\n",
       "      <td>Brainerd</td>\n",
       "      <td>1350 W. 89th St.</td>\n",
       "      <td>Chicago</td>\n",
       "      <td>60620.0</td>\n",
       "      <td>255</td>\n",
       "      <td>264</td>\n",
       "      <td>370</td>\n",
       "      <td>386</td>\n",
       "      <td>399</td>\n",
       "      <td>421</td>\n",
       "      <td>337</td>\n",
       "      <td>373</td>\n",
       "      <td>361</td>\n",
       "      <td>276</td>\n",
       "      <td>256</td>\n",
       "      <td>201</td>\n",
       "      <td>3899</td>\n",
       "      <td>2022</td>\n",
       "    </tr>\n",
       "    <tr>\n",
       "      <th>960</th>\n",
       "      <td>Brighton Park</td>\n",
       "      <td>4314 S. Archer Ave.</td>\n",
       "      <td>Chicago</td>\n",
       "      <td>60632.0</td>\n",
       "      <td>1394</td>\n",
       "      <td>1321</td>\n",
       "      <td>1327</td>\n",
       "      <td>1705</td>\n",
       "      <td>1609</td>\n",
       "      <td>1578</td>\n",
       "      <td>1609</td>\n",
       "      <td>1512</td>\n",
       "      <td>1425</td>\n",
       "      <td>1603</td>\n",
       "      <td>1579</td>\n",
       "      <td>1278</td>\n",
       "      <td>17940</td>\n",
       "      <td>2022</td>\n",
       "    </tr>\n",
       "    <tr>\n",
       "      <th>961</th>\n",
       "      <td>South Chicago</td>\n",
       "      <td>9055 S. Houston Ave.</td>\n",
       "      <td>Chicago</td>\n",
       "      <td>60617.0</td>\n",
       "      <td>496</td>\n",
       "      <td>528</td>\n",
       "      <td>739</td>\n",
       "      <td>775</td>\n",
       "      <td>587</td>\n",
       "      <td>804</td>\n",
       "      <td>720</td>\n",
       "      <td>883</td>\n",
       "      <td>681</td>\n",
       "      <td>697</td>\n",
       "      <td>799</td>\n",
       "      <td>615</td>\n",
       "      <td>8324</td>\n",
       "      <td>2022</td>\n",
       "    </tr>\n",
       "    <tr>\n",
       "      <th>962</th>\n",
       "      <td>Chicago Bee</td>\n",
       "      <td>3647 S. State St.</td>\n",
       "      <td>Chicago</td>\n",
       "      <td>60609.0</td>\n",
       "      <td>799</td>\n",
       "      <td>543</td>\n",
       "      <td>709</td>\n",
       "      <td>803</td>\n",
       "      <td>707</td>\n",
       "      <td>931</td>\n",
       "      <td>778</td>\n",
       "      <td>770</td>\n",
       "      <td>714</td>\n",
       "      <td>835</td>\n",
       "      <td>718</td>\n",
       "      <td>788</td>\n",
       "      <td>9095</td>\n",
       "      <td>2022</td>\n",
       "    </tr>\n",
       "  </tbody>\n",
       "</table>\n",
       "<p>963 rows × 18 columns</p>\n",
       "</div>"
      ],
      "text/plain": [
       "             branch                  address     city  zip code  january  \\\n",
       "0       Albany Park     5150 N. Kimball Ave.  Chicago   60625.0     8427   \n",
       "1           Altgeld    13281 S. Corliss Ave.  Chicago   60827.0     1258   \n",
       "2    Archer Heights      5055 S. Archer Ave.  Chicago   60632.0     8104   \n",
       "3            Austin        5615 W. Race Ave.  Chicago   60644.0     1755   \n",
       "4     Austin-Irving  6100 W. Irving Park Rd.  Chicago   60634.0    12593   \n",
       "..              ...                      ...      ...       ...      ...   \n",
       "958       Chinatown   2100 S. Wentworth Ave.  Chicago   60616.0     4795   \n",
       "959        Brainerd         1350 W. 89th St.  Chicago   60620.0      255   \n",
       "960   Brighton Park      4314 S. Archer Ave.  Chicago   60632.0     1394   \n",
       "961   South Chicago     9055 S. Houston Ave.  Chicago   60617.0      496   \n",
       "962     Chicago Bee        3647 S. State St.  Chicago   60609.0      799   \n",
       "\n",
       "     february  march  april    may   june   july  august  september  october  \\\n",
       "0        7023   9702   9344   8865  11650  11778   11306      10466    10997   \n",
       "1         708    854    804    816    870    713     480        702      927   \n",
       "2        6899   9329   9124   7472   8314   8116    9177       9033     9709   \n",
       "3        1316   1942   2200   2133   2359   2080    2405       2417     2571   \n",
       "4       11791  14807  14382  11754  14402  14605   15164      14306    15357   \n",
       "..        ...    ...    ...    ...    ...    ...     ...        ...      ...   \n",
       "958      4258   5316   5343   4791   5367   5477    5362       4991     4847   \n",
       "959       264    370    386    399    421    337     373        361      276   \n",
       "960      1321   1327   1705   1609   1578   1609    1512       1425     1603   \n",
       "961       528    739    775    587    804    720     883        681      697   \n",
       "962       543    709    803    707    931    778     770        714      835   \n",
       "\n",
       "     november  december     ytd  year  \n",
       "0       10567      9934  120059  2011  \n",
       "1         787       692    9611  2011  \n",
       "2        8809      7865  101951  2011  \n",
       "3        2233      2116   25527  2011  \n",
       "4       14069     12404  165634  2011  \n",
       "..        ...       ...     ...   ...  \n",
       "958      4035      3957   58539  2022  \n",
       "959       256       201    3899  2022  \n",
       "960      1579      1278   17940  2022  \n",
       "961       799       615    8324  2022  \n",
       "962       718       788    9095  2022  \n",
       "\n",
       "[963 rows x 18 columns]"
      ]
     },
     "execution_count": 37,
     "metadata": {},
     "output_type": "execute_result"
    }
   ],
   "source": [
    "import pandas as pd\n",
    "import numpy as np\n",
    "\n",
    "df = pd.read_csv(\"../data/2011_circ.csv\")\n",
    "#print(df.info(),df.head(),df.tail(),df.describe(),df.columns,sep=\"\\n\\n\")\n",
    "#df[30:40]\n",
    "#df[\"ytd\"]\n",
    "df2 = pd.read_pickle(\"../data/all_years.pkl\")\n",
    "df2"
   ]
  },
  {
   "cell_type": "markdown",
   "metadata": {},
   "source": [
    "#### Task 4:\n",
    "`.info()`: outputs information about columns, their content and their data types  \n",
    "`.head(n=5)`: outputs the first n (default 5) lines of the dataframe  \n",
    "`.tail(n=5)`: outputs the last n (default 5) lines of the dataframe  \n",
    "`.describe()`: outputs statistical information (count, mean, std etc.) about the contents of each column  \n",
    "`.columns`: outputs the names of all of the columns of the dataframe  \n",
    "#### Task 5:\n",
    "First ten rows of dataframe `df`: `df.head(10)`  \n",
    "Last ten rows of dataframe `df`: `df.tail(10)`  \n",
    "#### Task 6:\n",
    "Rows 30 to 40: `df[30:40]`\n",
    "#### Task 7:\n",
    "Get specific column (eg. \"ytd\"): `df[\"ytd\"]` or `df.loc[:,[\"ytd\"]]`. When executing the first command there will be an output that also specifies the `dtype` (in this case `int64`).\n",
    "#### Task 8\n",
    "A `.pkl`-File is a filetype that is Python-specific. It is good for working with larger (or temporary) amounts of data that will only be used in Python. Pickle-Files are saved in binary, making them hard to read but fast to work with.\n",
    "#### Task 9\n",
    "`.loc()` enables you to select within a dataframe by matching labels, while `.iloc()` matches by position.\n",
    "#### Task 10\n",
    "`.sort_values(by=<column>)` allows you to sort by the values within a specific column."
   ]
  },
  {
   "cell_type": "markdown",
   "metadata": {},
   "source": [
    "## Setup your Python and Jupyter environment\n",
    "\n",
    "### Step 1: Install Python\n",
    "\n",
    "1.\tDownload Python:\n",
    "\n",
    "- Go to the official Python website.\n",
    "- Download the latest version of Python (e.g., Python 3.x.x) for your operating system (Windows, macOS, or Linux).\n",
    "\n",
    "2.\tInstall Python:  \n",
    "\n",
    "Windows:\n",
    "- Run the downloaded .exe file.\n",
    "- IMPORTANT: During installation, check the box that says “Add Python to PATH”.\n",
    "- Select “Customize installation” (optional, but helpful for control over features).\n",
    "- Complete the installation.\n",
    "  \n",
    "macOS:\n",
    "- Run the .pkg file and follow the instructions.\n",
    "- Alternatively, use the terminal command (requires Homebrew):\n",
    "\n",
    "```\n",
    "brew install python3\n",
    "```\n",
    "\n",
    "Linux:\n",
    "- Use the package manager (e.g., apt for Ubuntu):\n",
    "\n",
    "```\n",
    "sudo apt update\n",
    "sudo apt install python3 python3-pip\n",
    "```\n",
    "\n",
    "3.\tVerify Python Installation:\n",
    "\n",
    "- Open a terminal or command prompt and type:\n",
    "```\n",
    "python --version\n",
    "```\n",
    "\n",
    "This should show the Python version you installed (e.g., Python 3.10.0).\n",
    "\n",
    "### Step 2: Install a Package Manager (pip)\n",
    "\n",
    "pip is the package manager for Python and is usually bundled with Python installations. You can use it to install additional libraries, including Jupyter.\n",
    "\n",
    "1.Verify pip is installed:\n",
    "- Open a terminal or command prompt and type:\n",
    "\n",
    "```\n",
    "pip --version\n",
    "```\n",
    "\n",
    "- If pip is installed, it will display the version.\n",
    "\n",
    "2.\tUpgrade pip (optional):\n",
    "- It’s a good idea to keep pip up-to-date. In the terminal/command prompt, type:\n",
    "\n",
    "```\n",
    "python -m pip install --upgrade pip\n",
    "```\n",
    "\n",
    "### Step 3: Set Up a Virtual Environment (Optional but Recommended)\n",
    "\n",
    "Virtual environments allow you to isolate Python packages and dependencies for different projects.\n",
    "\n",
    "1.\tCreate a virtual environment:\n",
    "\n",
    "Navigate to the directory where you want to set up the environment and run:\n",
    "\n",
    "```\n",
    "python -m venv myenv\n",
    "```\n",
    "\n",
    "This will create a virtual environment named myenv.\n",
    "\n",
    "2. Activate the virtual environment:\n",
    "Windows:\n",
    "\n",
    "```\n",
    "myenv\\Scripts\\activate\n",
    "```\n",
    "\n",
    "- macOS/Linux:\n",
    "\n",
    "```\n",
    "source myenv/bin/activate\n",
    "```\n",
    "\n",
    "3.\tDeactivate the virtual environment: (when you’re done working)\n",
    "\n",
    "```\n",
    "deactivate\n",
    "```\n",
    "\n",
    "\n",
    "### Step 4: Install Jupyter Notebook\n",
    "\n",
    "Jupyter is installed using pip. Once Python (and pip) is set up, Jupyter can be easily installed.\n",
    "\n",
    "1. Install Jupyter:\n",
    "\n",
    "In the terminal or command prompt (and optionally inside your virtual environment), type:\n",
    "\n",
    "```\n",
    "pip install jupyter\n",
    "```\n",
    "\n",
    "2.\tVerify Jupyter Installation:\n",
    "\n",
    "After installation, type:\n",
    "\n",
    "```\n",
    "jupyter --version\n",
    "```\n",
    "\n",
    "This should display the version of Jupyter.\n",
    "\n",
    "### Step 5: Launch Jupyter Notebook\n",
    "\n",
    "1.\tRun Jupyter Notebook:\n",
    "\n",
    "In your terminal/command prompt, type:\n",
    "\n",
    "```\n",
    "jupyter notebook\n",
    "```\n",
    "\n",
    "This will open Jupyter in your default web browser.\n",
    "\n",
    "2.\tCreate a new notebook:\n",
    "- In the Jupyter dashboard (the browser window), click New and select Python 3 to create a new notebook.\n",
    "\n",
    "### Step 6: Install Common Python Packages\n",
    "\n",
    "Install commonly used libraries such as numpy, pandas, and matplotlib.\n",
    "\n",
    "1.\tInstall packages:\n",
    "\n",
    "```\n",
    "pip install numpy pandas matplotlib\n",
    "```\n",
    "\n",
    "2.\tTest packages in Jupyter:\n",
    "- In a new Jupyter notebook, try importing these libraries:\n",
    "\n",
    "```\n",
    "import numpy as np\n",
    "import pandas as pd\n",
    "import matplotlib.pyplot as plt\n",
    "```\n",
    "\n",
    "### Step 7: Configure Jupyter for Better Usage (Optional)\n",
    "\n",
    "You can enhance your Jupyter environment with additional configurations.\n",
    "\n",
    "1.\tJupyterLab (an advanced alternative to Jupyter Notebook):\n",
    "\n",
    "Install JupyterLab:\n",
    "```\n",
    "pip install jupyterlab\n",
    "```\n",
    "\n",
    "Launch JupyterLab by typing:\n",
    "```\n",
    "jupyter lab\n",
    "```\n",
    "\n",
    "2.\tInstall Jupyter Extensions (optional but useful):\n",
    "- Jupyter extensions add useful features like a table of contents, variable inspector, etc.\n",
    "- First, install jupyter_contrib_nbextensions:\n",
    "\n",
    "```\n",
    "pip install jupyter_contrib_nbextensions\n",
    "jupyter contrib nbextension install --user\n",
    "```\n",
    "\n",
    "- Open Jupyter Notebook and enable the desired extensions from the Nbextensions tab.\n",
    "\n",
    "### Step 8: Install Integrated Development Environment (IDE) (Optional)\n",
    "\n",
    "You can install an IDE like VSCode or PyCharm for a better Python development experience.\n",
    "\n",
    "1. Install Visual Studio Code:\n",
    "- Download and install Visual Studio Code.\n",
    "- Install the Python extension from the VSCode marketplace.\n",
    "\n",
    "2. Configure Jupyter in VSCode:\n",
    "- Once the Python extension is installed in VSCode, you can open .ipynb files (Jupyter notebooks) directly in VSCode and run them within the IDE.\n",
    "\n",
    "### Step 9: Explore and Test\n",
    "\n",
    "Your environment is now ready! Explore Python in Jupyter by writing and running simple code snippets, installing additional libraries as needed for specific projects, and trying out new features.\n",
    "\n",
    "Troubleshooting Tips:\n",
    "\n",
    "- Python not recognized: Ensure Python is added to your system’s PATH. On Windows, you can manually add it if you didn’t check the option during installation.\n",
    "- Permission errors: Run commands with sudo on macOS/Linux or as an administrator on Windows if you encounter permission issues.\n",
    "- Kernel issues in Jupyter: If you have multiple Python versions, ensure the correct Python environment is linked to Jupyter using the command python -m ipykernel install --user --name=myenv for the correct virtual environment."
   ]
  }
 ],
 "metadata": {
  "kernelspec": {
   "display_name": "Python 3",
   "language": "python",
   "name": "python3"
  },
  "language_info": {
   "codemirror_mode": {
    "name": "ipython",
    "version": 3
   },
   "file_extension": ".py",
   "mimetype": "text/x-python",
   "name": "python",
   "nbconvert_exporter": "python",
   "pygments_lexer": "ipython3",
   "version": "3.12.7"
  }
 },
 "nbformat": 4,
 "nbformat_minor": 2
}
