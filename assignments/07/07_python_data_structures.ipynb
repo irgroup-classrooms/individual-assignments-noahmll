{
 "cells": [
  {
   "cell_type": "markdown",
   "metadata": {},
   "source": [
    "# DIS08 / OR92 Data Modeling: Python - Data structures"
   ]
  },
  {
   "cell_type": "markdown",
   "metadata": {},
   "source": [
    "# Introduction to Data Structures\n",
    "\n",
    "---\n",
    "\n",
    "**Note:** Some examples and assignments in this notebook are taken from the following sources.\n",
    "- https://docs.python.org/3/tutorial/datastructures.html\n",
    "- https://realpython.com/python-data-structures/\n",
    "- https://www.geeksforgeeks.org/python-data-structures/\n",
    "- https://automatetheboringstuff.com/\n",
    "\n",
    "\n",
    "---\n",
    "\n",
    "## What are data structures?\n",
    "Data structures are ways of organizing and storing data to enable efficient access and modification. They provide a means to manage large amounts of data and are fundamental to designing efficient algorithms. \n",
    "\n",
    "In Python, data structures can be broadly categorized into built-in types (like lists, tuples, sets, and dictionaries) and custom types created using classes.\n",
    "\n",
    "## Importance of choosing the right data structure\n",
    "Selecting the appropriate data structure is crucial for optimizing the performance of a program. The choice affects:\n",
    "- **Memory usage:** Some data structures require more memory than others.\n",
    "- **Speed of operations:** Different structures offer varying performance for insertion, deletion, searching, and updating operations.\n",
    "- **Code clarity:** The right structure can make code easier to read and maintain.\n",
    "\n",
    "## Built-in vs. custom data structures\n",
    "- **Built-in data structures** are provided by Python and include lists, tuples, sets, and dictionaries. They are highly optimized and easy to use.\n",
    "- **Custom data structures** can be implemented using classes to meet specific needs, such as stacks, queues, linked lists, trees, and graphs.\n",
    "\n",
    "Choosing between built-in and custom data structures depends on the problem requirements and the trade-offs involved.\n",
    "\n"
   ]
  },
  {
   "cell_type": "markdown",
   "metadata": {},
   "source": [
    "## Lists\n",
    "\n",
    "### Characteristics\n",
    "- **Ordered**: The elements in a list have a specific order, which is preserved.\n",
    "- **Mutable**: Lists can be modified after their creation (e.g., adding, removing, or changing elements).\n",
    "- **Allows Duplicates**: A list can contain multiple instances of the same value."
   ]
  },
  {
   "cell_type": "markdown",
   "metadata": {},
   "source": [
    "### Common Operations\n",
    "\n",
    "#### Indexing\n",
    "\n",
    "Access elements by their position in the list (starting at index 0)."
   ]
  },
  {
   "cell_type": "code",
   "execution_count": 1,
   "metadata": {},
   "outputs": [
    {
     "name": "stdout",
     "output_type": "stream",
     "text": [
      "[1, 2, 3, 4, 2, 5]\n",
      "First element: 1, Last element: 5\n"
     ]
    }
   ],
   "source": [
    "# Creating a list with some duplicate values\n",
    "my_list = [1, 2, 3, 4, 2, 5]\n",
    "print(my_list)  \n",
    "\n",
    "# Accessing elements\n",
    "first_element = my_list[0]   # First element\n",
    "last_element = my_list[-1]   # Last element\n",
    "\n",
    "print(f\"First element: {first_element}, Last element: {last_element}\")"
   ]
  },
  {
   "cell_type": "markdown",
   "metadata": {},
   "source": [
    "#### Slicing\n",
    "\n",
    "Retrieve a subset of the list using slicing."
   ]
  },
  {
   "cell_type": "code",
   "execution_count": null,
   "metadata": {},
   "outputs": [],
   "source": [
    "# Slicing the list\n",
    "sub_list = my_list[1:4]  # Elements from index 1 to 3\n",
    "print(sub_list) "
   ]
  },
  {
   "cell_type": "markdown",
   "metadata": {},
   "source": [
    "#### Appending\n",
    "\n",
    "Add an element to the end of the list using append()."
   ]
  },
  {
   "cell_type": "code",
   "execution_count": null,
   "metadata": {},
   "outputs": [],
   "source": [
    "# Appending a new element\n",
    "my_list.append(6)\n",
    "print(my_list)  "
   ]
  },
  {
   "cell_type": "markdown",
   "metadata": {},
   "source": [
    "#### Inserting\n",
    "\n",
    "Insert an element at a specific position using insert()."
   ]
  },
  {
   "cell_type": "code",
   "execution_count": null,
   "metadata": {},
   "outputs": [],
   "source": [
    "# Inserting an element at index 2\n",
    "my_list.insert(2, 99)\n",
    "print(my_list)  "
   ]
  },
  {
   "cell_type": "markdown",
   "metadata": {},
   "source": [
    "#### Counting, sorting, reversing, etc."
   ]
  },
  {
   "cell_type": "code",
   "execution_count": null,
   "metadata": {},
   "outputs": [],
   "source": [
    "fruits = ['orange', 'apple', 'pear', 'banana', 'kiwi', 'apple', 'banana']\n",
    "fruits"
   ]
  },
  {
   "cell_type": "code",
   "execution_count": null,
   "metadata": {},
   "outputs": [],
   "source": [
    "fruits.count('apple')"
   ]
  },
  {
   "cell_type": "code",
   "execution_count": null,
   "metadata": {},
   "outputs": [],
   "source": [
    "fruits.index('banana')"
   ]
  },
  {
   "cell_type": "code",
   "execution_count": null,
   "metadata": {},
   "outputs": [],
   "source": [
    "fruits.index('banana', 4)  # Find next banana starting at position 4"
   ]
  },
  {
   "cell_type": "code",
   "execution_count": null,
   "metadata": {},
   "outputs": [],
   "source": [
    "fruits.reverse()\n",
    "fruits"
   ]
  },
  {
   "cell_type": "markdown",
   "metadata": {},
   "source": [
    "#### Using Lists as Stacks\n",
    "\n",
    "A stack is a linear data structure that follows the Last In, First Out (LIFO) principle, meaning the last element added to the stack is the first one to be removed. It is commonly used for tasks like managing function calls, undo operations, and evaluating expressions.\n",
    "\n",
    "In Python, a stack can be implemented using a list, where append() adds an item to the top and pop() removes the topmost item. Alternatively, the deque (from the collections module) is preferred for better performance, as it provides efficient O(1) operations for both appending and popping.\n",
    "\n",
    "**See also:** https://en.wikipedia.org/wiki/Stack_(abstract_data_type)"
   ]
  },
  {
   "cell_type": "code",
   "execution_count": null,
   "metadata": {},
   "outputs": [],
   "source": [
    "stack = [3, 4, 5]\n",
    "stack"
   ]
  },
  {
   "cell_type": "code",
   "execution_count": null,
   "metadata": {},
   "outputs": [],
   "source": [
    "stack.append(6)\n",
    "stack"
   ]
  },
  {
   "cell_type": "code",
   "execution_count": null,
   "metadata": {},
   "outputs": [],
   "source": [
    "stack.append(7)\n",
    "stack"
   ]
  },
  {
   "cell_type": "code",
   "execution_count": null,
   "metadata": {},
   "outputs": [],
   "source": [
    "stack.pop()"
   ]
  },
  {
   "cell_type": "code",
   "execution_count": null,
   "metadata": {},
   "outputs": [],
   "source": [
    "stack.pop()"
   ]
  },
  {
   "cell_type": "markdown",
   "metadata": {},
   "source": [
    "#### Using Lists as Queues\n",
    "\n",
    "A queue is a linear data structure that follows the First In, First Out (FIFO) principle, meaning the first element added is the first one to be removed. It is commonly used for tasks like task scheduling, breadth-first search, and managing shared resources.\n",
    "\n",
    "In Python, a queue can be implemented using a list, though it is inefficient for frequent operations due to O(n) complexity when removing the first element. A more efficient approach is to use the deque (from the collections module), which provides O(1) operations for both appending and removing elements from either end. For thread-safe queues, the queue.Queue class from the queue module can be used.\n",
    "\n",
    "**See also:** https://en.wikipedia.org/wiki/Queue_(abstract_data_type)"
   ]
  },
  {
   "cell_type": "code",
   "execution_count": null,
   "metadata": {},
   "outputs": [],
   "source": [
    "from collections import deque\n",
    "\n",
    "queue = deque([\"Eric\", \"John\", \"Michael\"])\n",
    "queue"
   ]
  },
  {
   "cell_type": "code",
   "execution_count": null,
   "metadata": {},
   "outputs": [],
   "source": [
    "queue.append(\"Terry\")\n",
    "queue"
   ]
  },
  {
   "cell_type": "code",
   "execution_count": null,
   "metadata": {},
   "outputs": [],
   "source": [
    "queue.append(\"Graham\")\n",
    "queue"
   ]
  },
  {
   "cell_type": "code",
   "execution_count": null,
   "metadata": {},
   "outputs": [],
   "source": [
    "queue.popleft()\n",
    "queue"
   ]
  },
  {
   "cell_type": "code",
   "execution_count": null,
   "metadata": {},
   "outputs": [],
   "source": [
    "queue.popleft()\n",
    "queue"
   ]
  },
  {
   "cell_type": "markdown",
   "metadata": {},
   "source": [
    "### List comprehension\n",
    "\n",
    "List comprehension is a concise and elegant way to create and transform lists in Python. It provides a syntactic shortcut for generating new lists by applying an expression to each item in an existing iterable (like a list, range, or string) and optionally filtering elements based on a condition. "
   ]
  },
  {
   "cell_type": "code",
   "execution_count": null,
   "metadata": {},
   "outputs": [],
   "source": [
    "squares = []\n",
    "for x in range(10):\n",
    "    squares.append(x**2)\n",
    "\n",
    "squares"
   ]
  },
  {
   "cell_type": "code",
   "execution_count": null,
   "metadata": {},
   "outputs": [],
   "source": [
    "squares = list(map(lambda x: x**2, range(10)))\n",
    "squares"
   ]
  },
  {
   "cell_type": "code",
   "execution_count": null,
   "metadata": {},
   "outputs": [],
   "source": [
    "squares = [x**2 for x in range(10)]\n",
    "squares"
   ]
  },
  {
   "cell_type": "markdown",
   "metadata": {},
   "source": [
    "## Tuples\n",
    "\n",
    "A tuple is an immutable sequence, meaning its elements cannot be modified after creation. Tuples are defined using parentheses () or simply by separating values with commas. For example, (1, 2, 3) or 1, 2, 3 are tuples. They are commonly used to represent fixed collections of items, like coordinates or function return values. Tuples are efficient and can hold heterogeneous data types, making them ideal for use as keys in dictionaries or when immutability is desired.\n",
    "\n",
    "A tuple consists of a number of values separated by commas, for instance:"
   ]
  },
  {
   "cell_type": "code",
   "execution_count": 4,
   "metadata": {},
   "outputs": [
    {
     "name": "stdout",
     "output_type": "stream",
     "text": [
      "(12345, 54321, 'hello!')\n"
     ]
    },
    {
     "data": {
      "text/plain": [
       "12345"
      ]
     },
     "execution_count": 4,
     "metadata": {},
     "output_type": "execute_result"
    }
   ],
   "source": [
    "t = 12345, 54321, 'hello!'\n",
    "print(t)\n",
    "t[0]"
   ]
  },
  {
   "cell_type": "code",
   "execution_count": 5,
   "metadata": {},
   "outputs": [
    {
     "data": {
      "text/plain": [
       "((12345, 54321, 'hello!'), (1, 2, 3, 4, 5))"
      ]
     },
     "execution_count": 5,
     "metadata": {},
     "output_type": "execute_result"
    }
   ],
   "source": [
    "# Tuples may be nested:\n",
    "u = t, (1, 2, 3, 4, 5)\n",
    "u"
   ]
  },
  {
   "cell_type": "code",
   "execution_count": 6,
   "metadata": {},
   "outputs": [
    {
     "ename": "TypeError",
     "evalue": "'tuple' object does not support item assignment",
     "output_type": "error",
     "traceback": [
      "\u001b[1;31m---------------------------------------------------------------------------\u001b[0m",
      "\u001b[1;31mTypeError\u001b[0m                                 Traceback (most recent call last)",
      "Cell \u001b[1;32mIn[6], line 2\u001b[0m\n\u001b[0;32m      1\u001b[0m \u001b[38;5;66;03m# Tuples are immutable:\u001b[39;00m\n\u001b[1;32m----> 2\u001b[0m \u001b[43mt\u001b[49m\u001b[43m[\u001b[49m\u001b[38;5;241;43m0\u001b[39;49m\u001b[43m]\u001b[49m \u001b[38;5;241m=\u001b[39m \u001b[38;5;241m88888\u001b[39m\n",
      "\u001b[1;31mTypeError\u001b[0m: 'tuple' object does not support item assignment"
     ]
    }
   ],
   "source": [
    "# Tuples are immutable:\n",
    "t[0] = 88888"
   ]
  },
  {
   "cell_type": "code",
   "execution_count": 8,
   "metadata": {},
   "outputs": [
    {
     "data": {
      "text/plain": [
       "([1, 2, 3], [3, 5, 1])"
      ]
     },
     "execution_count": 8,
     "metadata": {},
     "output_type": "execute_result"
    }
   ],
   "source": [
    "# but they can contain mutable objects:\n",
    "v = ([1, 2, 3], [3, 2, 1])\n",
    "v[1][1] = 5\n",
    "v"
   ]
  },
  {
   "cell_type": "markdown",
   "metadata": {},
   "source": [
    "## Sets\n",
    "\n",
    "A set in Python is an unordered collection of unique, immutable elements, commonly used for operations like membership testing, deduplication, and mathematical set operations (union, intersection, difference, and symmetric difference). Sets are defined using curly braces {} or the set() constructor, e.g., {1, 2, 3} or set([1, 2, 3]). They do not support indexing or slicing because they are unordered, but they are highly efficient for checking membership due to their underlying hash table implementation. Python also provides a frozenset, an immutable version of a set, which can be used as dictionary keys or elements of other sets."
   ]
  },
  {
   "cell_type": "code",
   "execution_count": null,
   "metadata": {},
   "outputs": [],
   "source": [
    "basket = {'apple', 'orange', 'apple', 'pear', 'orange', 'banana'}\n",
    "basket"
   ]
  },
  {
   "cell_type": "code",
   "execution_count": 9,
   "metadata": {},
   "outputs": [],
   "source": [
    "# Demonstrate set operations on unique letters from two words\n",
    "a = set('abracadabra')\n",
    "b = set('alacazam')"
   ]
  },
  {
   "cell_type": "code",
   "execution_count": 10,
   "metadata": {},
   "outputs": [
    {
     "data": {
      "text/plain": [
       "{'a', 'b', 'c', 'd', 'r'}"
      ]
     },
     "execution_count": 10,
     "metadata": {},
     "output_type": "execute_result"
    }
   ],
   "source": [
    "# unique letters in a\n",
    "a                                  "
   ]
  },
  {
   "cell_type": "code",
   "execution_count": 11,
   "metadata": {},
   "outputs": [
    {
     "data": {
      "text/plain": [
       "{'b', 'd', 'r'}"
      ]
     },
     "execution_count": 11,
     "metadata": {},
     "output_type": "execute_result"
    }
   ],
   "source": [
    "# letters in a but not in b\n",
    "a - b                              "
   ]
  },
  {
   "cell_type": "code",
   "execution_count": 12,
   "metadata": {},
   "outputs": [
    {
     "data": {
      "text/plain": [
       "{'a', 'b', 'c', 'd', 'l', 'm', 'r', 'z'}"
      ]
     },
     "execution_count": 12,
     "metadata": {},
     "output_type": "execute_result"
    }
   ],
   "source": [
    "# letters in a or b or both\n",
    "a | b"
   ]
  },
  {
   "cell_type": "code",
   "execution_count": 13,
   "metadata": {},
   "outputs": [
    {
     "data": {
      "text/plain": [
       "{'a', 'c'}"
      ]
     },
     "execution_count": 13,
     "metadata": {},
     "output_type": "execute_result"
    }
   ],
   "source": [
    "# letters in both a and b\n",
    "a & b                              \n"
   ]
  },
  {
   "cell_type": "code",
   "execution_count": 14,
   "metadata": {},
   "outputs": [
    {
     "data": {
      "text/plain": [
       "{'b', 'd', 'l', 'm', 'r', 'z'}"
      ]
     },
     "execution_count": 14,
     "metadata": {},
     "output_type": "execute_result"
    }
   ],
   "source": [
    "# letters in a or b but not both\n",
    "a ^ b                              "
   ]
  },
  {
   "cell_type": "markdown",
   "metadata": {},
   "source": [
    "## Dictionaries\n",
    "\n",
    "A dictionary in Python is an unordered, mutable collection that maps unique keys to values, making it ideal for storing and retrieving data efficiently using key-based lookups. Defined using curly braces {} with key-value pairs separated by colons, e.g., {\"name\": \"Alice\", \"age\": 30}, or created with the dict() constructor, dictionaries allow heterogeneous keys and values, though keys must be immutable (e.g., strings, numbers, or tuples). They support various operations, including adding, updating, and deleting key-value pairs, as well as built-in methods like .get(), .keys(), .values(), and .items() for accessing and manipulating data. Their efficient hash table implementation makes them a cornerstone of Python’s data structures."
   ]
  },
  {
   "cell_type": "code",
   "execution_count": null,
   "metadata": {},
   "outputs": [],
   "source": [
    "tel = {'jack': 4098, 'sape': 4139}\n",
    "tel['guido'] = 4127\n",
    "tel"
   ]
  },
  {
   "cell_type": "code",
   "execution_count": null,
   "metadata": {},
   "outputs": [],
   "source": [
    "tel['jack']"
   ]
  },
  {
   "cell_type": "code",
   "execution_count": null,
   "metadata": {},
   "outputs": [],
   "source": [
    "del tel['sape']\n",
    "tel"
   ]
  },
  {
   "cell_type": "code",
   "execution_count": null,
   "metadata": {},
   "outputs": [],
   "source": [
    "tel['irv'] = 4127\n",
    "tel"
   ]
  },
  {
   "cell_type": "code",
   "execution_count": null,
   "metadata": {},
   "outputs": [],
   "source": [
    "list(tel)"
   ]
  },
  {
   "cell_type": "code",
   "execution_count": null,
   "metadata": {},
   "outputs": [],
   "source": [
    "sorted(tel)"
   ]
  },
  {
   "cell_type": "code",
   "execution_count": null,
   "metadata": {},
   "outputs": [],
   "source": [
    "'guido' in tel"
   ]
  },
  {
   "cell_type": "code",
   "execution_count": null,
   "metadata": {},
   "outputs": [],
   "source": [
    "'jack' not in tel"
   ]
  },
  {
   "cell_type": "markdown",
   "metadata": {},
   "source": [
    "## Self-defined classes and basic concepts of object-oriented programming\n",
    "\n",
    "*Let's go to the library!*"
   ]
  },
  {
   "cell_type": "markdown",
   "metadata": {},
   "source": [
    "**Base Class (Encapsulation)**"
   ]
  },
  {
   "cell_type": "code",
   "execution_count": 15,
   "metadata": {},
   "outputs": [],
   "source": [
    "class Book:\n",
    "    def __init__(self, title, author, isbn, copies=1):\n",
    "        self._title = title  # Protected attribute\n",
    "        self._author = author  # Protected attribute\n",
    "        self._isbn = isbn  # Protected attribute\n",
    "        self._copies = copies  # Protected attribute\n",
    "\n",
    "    def display_info(self):\n",
    "        \"\"\"Public method to display book information.\"\"\"\n",
    "        print(f\"Title: {self._title}\")\n",
    "        print(f\"Author: {self._author}\")\n",
    "        print(f\"ISBN: {self._isbn}\")\n",
    "        print(f\"Copies Available: {self._copies}\")\n",
    "\n",
    "    def borrow_book(self):\n",
    "        \"\"\"Public method to borrow a book.\"\"\"\n",
    "        if self._copies > 0:\n",
    "            self._copies -= 1\n",
    "            print(f\"Borrowed '{self._title}'. Remaining copies: {self._copies}\")\n",
    "        else:\n",
    "            print(f\"'{self._title}' is currently unavailable.\")\n",
    "\n",
    "    def return_book(self):\n",
    "        \"\"\"Public method to return a book.\"\"\"\n",
    "        self._copies += 1\n",
    "        print(f\"Returned '{self._title}'. Total copies: {self._copies}\")"
   ]
  },
  {
   "cell_type": "markdown",
   "metadata": {},
   "source": [
    "**Derived Class (Inheritance)**"
   ]
  },
  {
   "cell_type": "code",
   "execution_count": 16,
   "metadata": {},
   "outputs": [],
   "source": [
    "class EBook(Book):\n",
    "    def __init__(self, title, author, isbn, file_size, file_format, copies=1):\n",
    "        super().__init__(title, author, isbn, copies)  # Call the constructor of the base class\n",
    "        self._file_size = file_size  # Specific to EBook\n",
    "        self._file_format = file_format  # Specific to EBook\n",
    "\n",
    "    def display_info(self):\n",
    "        \"\"\"Overriding method to include eBook-specific details.\"\"\"\n",
    "        super().display_info()\n",
    "        print(f\"File Size: {self._file_size}MB\")\n",
    "        print(f\"File Format: {self._file_format}\")"
   ]
  },
  {
   "cell_type": "markdown",
   "metadata": {},
   "source": [
    "**Polymorphism in action**"
   ]
  },
  {
   "cell_type": "code",
   "execution_count": 17,
   "metadata": {},
   "outputs": [],
   "source": [
    "def book_info(book):\n",
    "    \"\"\"Function to demonstrate polymorphism.\"\"\"\n",
    "    book.display_info()"
   ]
  },
  {
   "cell_type": "markdown",
   "metadata": {},
   "source": [
    "**Abstract Class**"
   ]
  },
  {
   "cell_type": "code",
   "execution_count": 18,
   "metadata": {},
   "outputs": [],
   "source": [
    "from abc import ABC, abstractmethod\n",
    "\n",
    "class LibraryMember(ABC):\n",
    "    def __init__(self, name, member_id):\n",
    "        self.name = name\n",
    "        self.member_id = member_id\n",
    "\n",
    "    @abstractmethod\n",
    "    def borrow(self):\n",
    "        pass\n",
    "\n",
    "    @abstractmethod\n",
    "    def return_item(self):\n",
    "        pass"
   ]
  },
  {
   "cell_type": "markdown",
   "metadata": {},
   "source": [
    "**Concrete class inheriting from abstract class**"
   ]
  },
  {
   "cell_type": "code",
   "execution_count": 19,
   "metadata": {},
   "outputs": [],
   "source": [
    "class Student(LibraryMember):\n",
    "    def __init__(self, name, member_id, borrowed_books=None):\n",
    "        super().__init__(name, member_id)\n",
    "        self.borrowed_books = borrowed_books if borrowed_books else []\n",
    "\n",
    "    def borrow(self, book):\n",
    "        \"\"\"Implements borrowing for a student.\"\"\"\n",
    "        if len(self.borrowed_books) < 3:  # Limit students to borrowing 3 books\n",
    "            book.borrow_book()\n",
    "            self.borrowed_books.append(book)\n",
    "        else:\n",
    "            print(f\"{self.name} has already borrowed 3 books!\")\n",
    "\n",
    "    def return_item(self, book):\n",
    "        \"\"\"Implements returning a book.\"\"\"\n",
    "        if book in self.borrowed_books:\n",
    "            book.return_book()\n",
    "            self.borrowed_books.remove(book)\n",
    "        else:\n",
    "            print(f\"{self.name} did not borrow '{book._title}'.\")\n",
    "\n",
    "    def display_borrowed_books(self):\n",
    "        print(f\"{self.name} has borrowed:\")\n",
    "        for book in self.borrowed_books:\n",
    "            print(f\"- {book._title}\")"
   ]
  },
  {
   "cell_type": "markdown",
   "metadata": {},
   "source": [
    "**Demonstration**"
   ]
  },
  {
   "cell_type": "code",
   "execution_count": 20,
   "metadata": {},
   "outputs": [
    {
     "name": "stdout",
     "output_type": "stream",
     "text": [
      "\n",
      "--- Book Information ---\n",
      "Title: The Great Gatsby\n",
      "Author: F. Scott Fitzgerald\n",
      "ISBN: 123456789\n",
      "Copies Available: 2\n",
      "Title: Python Programming\n",
      "Author: Guido van Rossum\n",
      "ISBN: 555666777\n",
      "Copies Available: 1\n",
      "File Size: 5MB\n",
      "File Format: PDF\n",
      "\n",
      "--- Borrowing Books ---\n",
      "Borrowed 'The Great Gatsby'. Remaining copies: 1\n",
      "Borrowed '1984'. Remaining copies: 0\n",
      "Borrowed 'Python Programming'. Remaining copies: 0\n",
      "Alice has already borrowed 3 books!\n",
      "\n",
      "--- Borrowed Books ---\n",
      "Alice has borrowed:\n",
      "- The Great Gatsby\n",
      "- 1984\n",
      "- Python Programming\n",
      "\n",
      "--- Returning a Book ---\n",
      "Returned 'The Great Gatsby'. Total copies: 2\n",
      "Alice has borrowed:\n",
      "- 1984\n",
      "- Python Programming\n",
      "\n",
      "--- Borrowing After Returning ---\n",
      "Borrowed 'To Kill a Mockingbird'. Remaining copies: 0\n",
      "\n",
      "--- Abstract Class Implementation ---\n",
      "Alice (ID: S001) is a library member.\n"
     ]
    }
   ],
   "source": [
    "if __name__ == \"__main__\":\n",
    "    # Create some book objects\n",
    "    book1 = Book(\"The Great Gatsby\", \"F. Scott Fitzgerald\", \"123456789\", 2)\n",
    "    book2 = Book(\"1984\", \"George Orwell\", \"987654321\", 1)\n",
    "    ebook1 = EBook(\"Python Programming\", \"Guido van Rossum\", \"555666777\", 5, \"PDF\")\n",
    "\n",
    "    # Display information using polymorphism\n",
    "    print(\"\\n--- Book Information ---\")\n",
    "    book_info(book1)\n",
    "    book_info(ebook1)\n",
    "\n",
    "    # Create a student member\n",
    "    student = Student(\"Alice\", \"S001\")\n",
    "\n",
    "    # Borrow books\n",
    "    print(\"\\n--- Borrowing Books ---\")\n",
    "    student.borrow(book1)\n",
    "    student.borrow(book2)\n",
    "    student.borrow(ebook1)\n",
    "\n",
    "    # Try borrowing more than 3 books\n",
    "    book3 = Book(\"To Kill a Mockingbird\", \"Harper Lee\", \"222333444\", 1)\n",
    "    student.borrow(book3)\n",
    "\n",
    "    # Display borrowed books\n",
    "    print(\"\\n--- Borrowed Books ---\")\n",
    "    student.display_borrowed_books()\n",
    "\n",
    "    # Return a book\n",
    "    print(\"\\n--- Returning a Book ---\")\n",
    "    student.return_item(book1)\n",
    "    student.display_borrowed_books()\n",
    "\n",
    "    # Borrow again\n",
    "    print(\"\\n--- Borrowing After Returning ---\")\n",
    "    student.borrow(book3)\n",
    "\n",
    "    # Abstract base class demonstration\n",
    "    print(\"\\n--- Abstract Class Implementation ---\")\n",
    "    print(f\"{student.name} (ID: {student.member_id}) is a library member.\")"
   ]
  },
  {
   "cell_type": "markdown",
   "metadata": {},
   "source": [
    "## Pandas' DataFrame class\n",
    "\n",
    "*Renting bikes in NYC...*\n",
    "\n",
    "In the following, we use data from Citi Bike.\n",
    "\n",
    "> **Wikipedia:** Citi Bike is a privately owned public bicycle sharing system serving the New York City boroughs of the Bronx, Brooklyn, Manhattan, and Queens, as well as Jersey City and Hoboken, New Jersey. Named after lead sponsor Citigroup, it was operated by Motivate (formerly Alta Bicycle Share), with former Metropolitan Transportation Authority CEO Jay Walder as chief executive until September 30, 2018, when the company was acquired by Lyft. The system's bikes and stations use technology from Lyft. \n",
    "\n",
    "**Source:** https://en.wikipedia.org/wiki/Citi_Bike\n",
    "\n",
    "Citi Bike provides monthly reports of their service usage that can be obtained from https://citibikenyc.com/system-data or more specifcially https://s3.amazonaws.com/tripdata/index.html"
   ]
  },
  {
   "cell_type": "code",
   "execution_count": 1,
   "metadata": {},
   "outputs": [
    {
     "name": "stderr",
     "output_type": "stream",
     "text": [
      "Der Befehl \"wget\" ist entweder falsch geschrieben oder\n",
      "konnte nicht gefunden werden.\n"
     ]
    }
   ],
   "source": [
    "!wget https://s3.amazonaws.com/tripdata/JC-202410-citibike-tripdata.csv.zip && unzip JC-202410-citibike-tripdata.csv.zip"
   ]
  },
  {
   "cell_type": "code",
   "execution_count": 2,
   "metadata": {},
   "outputs": [
    {
     "data": {
      "text/html": [
       "<div>\n",
       "<style scoped>\n",
       "    .dataframe tbody tr th:only-of-type {\n",
       "        vertical-align: middle;\n",
       "    }\n",
       "\n",
       "    .dataframe tbody tr th {\n",
       "        vertical-align: top;\n",
       "    }\n",
       "\n",
       "    .dataframe thead th {\n",
       "        text-align: right;\n",
       "    }\n",
       "</style>\n",
       "<table border=\"1\" class=\"dataframe\">\n",
       "  <thead>\n",
       "    <tr style=\"text-align: right;\">\n",
       "      <th></th>\n",
       "      <th>ride_id</th>\n",
       "      <th>rideable_type</th>\n",
       "      <th>started_at</th>\n",
       "      <th>ended_at</th>\n",
       "      <th>start_station_name</th>\n",
       "      <th>start_station_id</th>\n",
       "      <th>end_station_name</th>\n",
       "      <th>end_station_id</th>\n",
       "      <th>start_lat</th>\n",
       "      <th>start_lng</th>\n",
       "      <th>end_lat</th>\n",
       "      <th>end_lng</th>\n",
       "      <th>member_casual</th>\n",
       "    </tr>\n",
       "  </thead>\n",
       "  <tbody>\n",
       "    <tr>\n",
       "      <th>0</th>\n",
       "      <td>172DBBFC733F03CE</td>\n",
       "      <td>electric_bike</td>\n",
       "      <td>2024-10-10 14:54:24.572</td>\n",
       "      <td>2024-10-10 15:04:07.657</td>\n",
       "      <td>Oakland Ave</td>\n",
       "      <td>JC022</td>\n",
       "      <td>Stevens - River Ter &amp; 6 St</td>\n",
       "      <td>HB602</td>\n",
       "      <td>40.737604</td>\n",
       "      <td>-74.052478</td>\n",
       "      <td>40.743133</td>\n",
       "      <td>-74.026989</td>\n",
       "      <td>member</td>\n",
       "    </tr>\n",
       "    <tr>\n",
       "      <th>1</th>\n",
       "      <td>D20BBA4860FE736C</td>\n",
       "      <td>electric_bike</td>\n",
       "      <td>2024-10-03 19:20:21.215</td>\n",
       "      <td>2024-10-03 19:31:46.511</td>\n",
       "      <td>Oakland Ave</td>\n",
       "      <td>JC022</td>\n",
       "      <td>Stevens - River Ter &amp; 6 St</td>\n",
       "      <td>HB602</td>\n",
       "      <td>40.737604</td>\n",
       "      <td>-74.052478</td>\n",
       "      <td>40.743133</td>\n",
       "      <td>-74.026989</td>\n",
       "      <td>casual</td>\n",
       "    </tr>\n",
       "    <tr>\n",
       "      <th>2</th>\n",
       "      <td>86F89348995D0E6E</td>\n",
       "      <td>classic_bike</td>\n",
       "      <td>2024-10-20 12:14:56.318</td>\n",
       "      <td>2024-10-20 12:28:32.053</td>\n",
       "      <td>Oakland Ave</td>\n",
       "      <td>JC022</td>\n",
       "      <td>South Waterfront Walkway - Sinatra Dr &amp; 1 St</td>\n",
       "      <td>HB103</td>\n",
       "      <td>40.737604</td>\n",
       "      <td>-74.052478</td>\n",
       "      <td>40.736982</td>\n",
       "      <td>-74.027781</td>\n",
       "      <td>casual</td>\n",
       "    </tr>\n",
       "    <tr>\n",
       "      <th>3</th>\n",
       "      <td>AA55A717B7EC1D10</td>\n",
       "      <td>classic_bike</td>\n",
       "      <td>2024-10-20 14:40:15.227</td>\n",
       "      <td>2024-10-20 14:55:39.100</td>\n",
       "      <td>Oakland Ave</td>\n",
       "      <td>JC022</td>\n",
       "      <td>Columbus Drive</td>\n",
       "      <td>JC014</td>\n",
       "      <td>40.737604</td>\n",
       "      <td>-74.052478</td>\n",
       "      <td>40.718355</td>\n",
       "      <td>-74.038914</td>\n",
       "      <td>member</td>\n",
       "    </tr>\n",
       "    <tr>\n",
       "      <th>4</th>\n",
       "      <td>C72953D91E986DA7</td>\n",
       "      <td>classic_bike</td>\n",
       "      <td>2024-10-20 08:37:03.280</td>\n",
       "      <td>2024-10-20 08:42:24.770</td>\n",
       "      <td>Brunswick &amp; 6th</td>\n",
       "      <td>JC081</td>\n",
       "      <td>Washington St</td>\n",
       "      <td>JC098</td>\n",
       "      <td>40.726012</td>\n",
       "      <td>-74.050389</td>\n",
       "      <td>40.724294</td>\n",
       "      <td>-74.035483</td>\n",
       "      <td>member</td>\n",
       "    </tr>\n",
       "    <tr>\n",
       "      <th>...</th>\n",
       "      <td>...</td>\n",
       "      <td>...</td>\n",
       "      <td>...</td>\n",
       "      <td>...</td>\n",
       "      <td>...</td>\n",
       "      <td>...</td>\n",
       "      <td>...</td>\n",
       "      <td>...</td>\n",
       "      <td>...</td>\n",
       "      <td>...</td>\n",
       "      <td>...</td>\n",
       "      <td>...</td>\n",
       "      <td>...</td>\n",
       "    </tr>\n",
       "    <tr>\n",
       "      <th>118302</th>\n",
       "      <td>4FBD994F1648B362</td>\n",
       "      <td>electric_bike</td>\n",
       "      <td>2024-10-20 09:59:13.554</td>\n",
       "      <td>2024-10-20 10:08:13.706</td>\n",
       "      <td>Hoboken Ave at Monmouth St</td>\n",
       "      <td>JC105</td>\n",
       "      <td>River St &amp; 1 St</td>\n",
       "      <td>HB609</td>\n",
       "      <td>40.735208</td>\n",
       "      <td>-74.046964</td>\n",
       "      <td>40.737215</td>\n",
       "      <td>-74.028865</td>\n",
       "      <td>casual</td>\n",
       "    </tr>\n",
       "    <tr>\n",
       "      <th>118303</th>\n",
       "      <td>204041F23ECD28F1</td>\n",
       "      <td>electric_bike</td>\n",
       "      <td>2024-10-02 18:02:16.294</td>\n",
       "      <td>2024-10-02 18:09:23.766</td>\n",
       "      <td>Hoboken Ave at Monmouth St</td>\n",
       "      <td>JC105</td>\n",
       "      <td>River St &amp; 1 St</td>\n",
       "      <td>HB609</td>\n",
       "      <td>40.735208</td>\n",
       "      <td>-74.046964</td>\n",
       "      <td>40.737215</td>\n",
       "      <td>-74.028865</td>\n",
       "      <td>member</td>\n",
       "    </tr>\n",
       "    <tr>\n",
       "      <th>118304</th>\n",
       "      <td>49D3FDDA6932091C</td>\n",
       "      <td>classic_bike</td>\n",
       "      <td>2024-10-12 14:37:23.192</td>\n",
       "      <td>2024-10-12 14:45:56.088</td>\n",
       "      <td>Hoboken Ave at Monmouth St</td>\n",
       "      <td>JC105</td>\n",
       "      <td>River St &amp; 1 St</td>\n",
       "      <td>HB609</td>\n",
       "      <td>40.735208</td>\n",
       "      <td>-74.046964</td>\n",
       "      <td>40.737215</td>\n",
       "      <td>-74.028865</td>\n",
       "      <td>member</td>\n",
       "    </tr>\n",
       "    <tr>\n",
       "      <th>118305</th>\n",
       "      <td>DABDE1AAF41AFACB</td>\n",
       "      <td>electric_bike</td>\n",
       "      <td>2024-10-20 13:31:30.895</td>\n",
       "      <td>2024-10-20 13:41:10.722</td>\n",
       "      <td>Hoboken Ave at Monmouth St</td>\n",
       "      <td>JC105</td>\n",
       "      <td>River St &amp; 1 St</td>\n",
       "      <td>HB609</td>\n",
       "      <td>40.735208</td>\n",
       "      <td>-74.046964</td>\n",
       "      <td>40.737215</td>\n",
       "      <td>-74.028865</td>\n",
       "      <td>member</td>\n",
       "    </tr>\n",
       "    <tr>\n",
       "      <th>118306</th>\n",
       "      <td>144E2FB38A17608C</td>\n",
       "      <td>electric_bike</td>\n",
       "      <td>2024-10-01 10:42:19.480</td>\n",
       "      <td>2024-10-01 10:58:21.839</td>\n",
       "      <td>Hoboken Ave at Monmouth St</td>\n",
       "      <td>JC105</td>\n",
       "      <td>River St &amp; 1 St</td>\n",
       "      <td>HB609</td>\n",
       "      <td>40.735208</td>\n",
       "      <td>-74.046964</td>\n",
       "      <td>40.737215</td>\n",
       "      <td>-74.028865</td>\n",
       "      <td>member</td>\n",
       "    </tr>\n",
       "  </tbody>\n",
       "</table>\n",
       "<p>118307 rows × 13 columns</p>\n",
       "</div>"
      ],
      "text/plain": [
       "                 ride_id  rideable_type               started_at  \\\n",
       "0       172DBBFC733F03CE  electric_bike  2024-10-10 14:54:24.572   \n",
       "1       D20BBA4860FE736C  electric_bike  2024-10-03 19:20:21.215   \n",
       "2       86F89348995D0E6E   classic_bike  2024-10-20 12:14:56.318   \n",
       "3       AA55A717B7EC1D10   classic_bike  2024-10-20 14:40:15.227   \n",
       "4       C72953D91E986DA7   classic_bike  2024-10-20 08:37:03.280   \n",
       "...                  ...            ...                      ...   \n",
       "118302  4FBD994F1648B362  electric_bike  2024-10-20 09:59:13.554   \n",
       "118303  204041F23ECD28F1  electric_bike  2024-10-02 18:02:16.294   \n",
       "118304  49D3FDDA6932091C   classic_bike  2024-10-12 14:37:23.192   \n",
       "118305  DABDE1AAF41AFACB  electric_bike  2024-10-20 13:31:30.895   \n",
       "118306  144E2FB38A17608C  electric_bike  2024-10-01 10:42:19.480   \n",
       "\n",
       "                       ended_at          start_station_name start_station_id  \\\n",
       "0       2024-10-10 15:04:07.657                 Oakland Ave            JC022   \n",
       "1       2024-10-03 19:31:46.511                 Oakland Ave            JC022   \n",
       "2       2024-10-20 12:28:32.053                 Oakland Ave            JC022   \n",
       "3       2024-10-20 14:55:39.100                 Oakland Ave            JC022   \n",
       "4       2024-10-20 08:42:24.770             Brunswick & 6th            JC081   \n",
       "...                         ...                         ...              ...   \n",
       "118302  2024-10-20 10:08:13.706  Hoboken Ave at Monmouth St            JC105   \n",
       "118303  2024-10-02 18:09:23.766  Hoboken Ave at Monmouth St            JC105   \n",
       "118304  2024-10-12 14:45:56.088  Hoboken Ave at Monmouth St            JC105   \n",
       "118305  2024-10-20 13:41:10.722  Hoboken Ave at Monmouth St            JC105   \n",
       "118306  2024-10-01 10:58:21.839  Hoboken Ave at Monmouth St            JC105   \n",
       "\n",
       "                                    end_station_name end_station_id  \\\n",
       "0                         Stevens - River Ter & 6 St          HB602   \n",
       "1                         Stevens - River Ter & 6 St          HB602   \n",
       "2       South Waterfront Walkway - Sinatra Dr & 1 St          HB103   \n",
       "3                                     Columbus Drive          JC014   \n",
       "4                                      Washington St          JC098   \n",
       "...                                              ...            ...   \n",
       "118302                               River St & 1 St          HB609   \n",
       "118303                               River St & 1 St          HB609   \n",
       "118304                               River St & 1 St          HB609   \n",
       "118305                               River St & 1 St          HB609   \n",
       "118306                               River St & 1 St          HB609   \n",
       "\n",
       "        start_lat  start_lng    end_lat    end_lng member_casual  \n",
       "0       40.737604 -74.052478  40.743133 -74.026989        member  \n",
       "1       40.737604 -74.052478  40.743133 -74.026989        casual  \n",
       "2       40.737604 -74.052478  40.736982 -74.027781        casual  \n",
       "3       40.737604 -74.052478  40.718355 -74.038914        member  \n",
       "4       40.726012 -74.050389  40.724294 -74.035483        member  \n",
       "...           ...        ...        ...        ...           ...  \n",
       "118302  40.735208 -74.046964  40.737215 -74.028865        casual  \n",
       "118303  40.735208 -74.046964  40.737215 -74.028865        member  \n",
       "118304  40.735208 -74.046964  40.737215 -74.028865        member  \n",
       "118305  40.735208 -74.046964  40.737215 -74.028865        member  \n",
       "118306  40.735208 -74.046964  40.737215 -74.028865        member  \n",
       "\n",
       "[118307 rows x 13 columns]"
      ]
     },
     "execution_count": 2,
     "metadata": {},
     "output_type": "execute_result"
    }
   ],
   "source": [
    "import pandas as pd\n",
    "\n",
    "df = pd.read_csv('JC-202410-citibike-tripdata.csv')\n",
    "df"
   ]
  },
  {
   "cell_type": "code",
   "execution_count": null,
   "metadata": {},
   "outputs": [],
   "source": [
    "df.info()"
   ]
  },
  {
   "cell_type": "code",
   "execution_count": null,
   "metadata": {},
   "outputs": [],
   "source": [
    "df.columns"
   ]
  },
  {
   "cell_type": "code",
   "execution_count": null,
   "metadata": {},
   "outputs": [],
   "source": [
    "df.head(n=10)"
   ]
  },
  {
   "cell_type": "code",
   "execution_count": null,
   "metadata": {},
   "outputs": [],
   "source": [
    "df.tail(n=10)"
   ]
  },
  {
   "cell_type": "code",
   "execution_count": 3,
   "metadata": {},
   "outputs": [
    {
     "data": {
      "text/html": [
       "<div>\n",
       "<style scoped>\n",
       "    .dataframe tbody tr th:only-of-type {\n",
       "        vertical-align: middle;\n",
       "    }\n",
       "\n",
       "    .dataframe tbody tr th {\n",
       "        vertical-align: top;\n",
       "    }\n",
       "\n",
       "    .dataframe thead th {\n",
       "        text-align: right;\n",
       "    }\n",
       "</style>\n",
       "<table border=\"1\" class=\"dataframe\">\n",
       "  <thead>\n",
       "    <tr style=\"text-align: right;\">\n",
       "      <th></th>\n",
       "      <th>start_lat</th>\n",
       "      <th>start_lng</th>\n",
       "      <th>end_lat</th>\n",
       "      <th>end_lng</th>\n",
       "    </tr>\n",
       "  </thead>\n",
       "  <tbody>\n",
       "    <tr>\n",
       "      <th>count</th>\n",
       "      <td>118307.000000</td>\n",
       "      <td>118307.000000</td>\n",
       "      <td>118281.000000</td>\n",
       "      <td>118281.000000</td>\n",
       "    </tr>\n",
       "    <tr>\n",
       "      <th>mean</th>\n",
       "      <td>40.732992</td>\n",
       "      <td>-74.039525</td>\n",
       "      <td>40.732966</td>\n",
       "      <td>-74.039250</td>\n",
       "    </tr>\n",
       "    <tr>\n",
       "      <th>std</th>\n",
       "      <td>0.012156</td>\n",
       "      <td>0.011791</td>\n",
       "      <td>0.012236</td>\n",
       "      <td>0.011877</td>\n",
       "    </tr>\n",
       "    <tr>\n",
       "      <th>min</th>\n",
       "      <td>40.706575</td>\n",
       "      <td>-74.086701</td>\n",
       "      <td>40.686371</td>\n",
       "      <td>-74.100000</td>\n",
       "    </tr>\n",
       "    <tr>\n",
       "      <th>25%</th>\n",
       "      <td>40.721630</td>\n",
       "      <td>-74.044247</td>\n",
       "      <td>40.721525</td>\n",
       "      <td>-74.044247</td>\n",
       "    </tr>\n",
       "    <tr>\n",
       "      <th>50%</th>\n",
       "      <td>40.735938</td>\n",
       "      <td>-74.036486</td>\n",
       "      <td>40.735938</td>\n",
       "      <td>-74.035865</td>\n",
       "    </tr>\n",
       "    <tr>\n",
       "      <th>75%</th>\n",
       "      <td>40.742659</td>\n",
       "      <td>-74.030377</td>\n",
       "      <td>40.742659</td>\n",
       "      <td>-74.030377</td>\n",
       "    </tr>\n",
       "    <tr>\n",
       "      <th>max</th>\n",
       "      <td>40.754530</td>\n",
       "      <td>-74.024020</td>\n",
       "      <td>40.851680</td>\n",
       "      <td>-73.903865</td>\n",
       "    </tr>\n",
       "  </tbody>\n",
       "</table>\n",
       "</div>"
      ],
      "text/plain": [
       "           start_lat      start_lng        end_lat        end_lng\n",
       "count  118307.000000  118307.000000  118281.000000  118281.000000\n",
       "mean       40.732992     -74.039525      40.732966     -74.039250\n",
       "std         0.012156       0.011791       0.012236       0.011877\n",
       "min        40.706575     -74.086701      40.686371     -74.100000\n",
       "25%        40.721630     -74.044247      40.721525     -74.044247\n",
       "50%        40.735938     -74.036486      40.735938     -74.035865\n",
       "75%        40.742659     -74.030377      40.742659     -74.030377\n",
       "max        40.754530     -74.024020      40.851680     -73.903865"
      ]
     },
     "execution_count": 3,
     "metadata": {},
     "output_type": "execute_result"
    }
   ],
   "source": [
    "df.describe() # Attention! Some methods do not always make sense!"
   ]
  },
  {
   "cell_type": "code",
   "execution_count": 4,
   "metadata": {},
   "outputs": [
    {
     "data": {
      "text/plain": [
       "ride_id                         172DBBFC733F03CE\n",
       "rideable_type                      electric_bike\n",
       "started_at               2024-10-10 14:54:24.572\n",
       "ended_at                 2024-10-10 15:04:07.657\n",
       "start_station_name                   Oakland Ave\n",
       "start_station_id                           JC022\n",
       "end_station_name      Stevens - River Ter & 6 St\n",
       "end_station_id                             HB602\n",
       "start_lat                              40.737604\n",
       "start_lng                             -74.052478\n",
       "end_lat                                40.743133\n",
       "end_lng                               -74.026989\n",
       "member_casual                             member\n",
       "Name: 0, dtype: object"
      ]
     },
     "execution_count": 4,
     "metadata": {},
     "output_type": "execute_result"
    }
   ],
   "source": [
    "df.loc[0]"
   ]
  },
  {
   "cell_type": "code",
   "execution_count": 5,
   "metadata": {},
   "outputs": [
    {
     "data": {
      "text/plain": [
       "ride_id                         172DBBFC733F03CE\n",
       "rideable_type                      electric_bike\n",
       "started_at               2024-10-10 14:54:24.572\n",
       "ended_at                 2024-10-10 15:04:07.657\n",
       "start_station_name                   Oakland Ave\n",
       "start_station_id                           JC022\n",
       "end_station_name      Stevens - River Ter & 6 St\n",
       "end_station_id                             HB602\n",
       "start_lat                              40.737604\n",
       "start_lng                             -74.052478\n",
       "end_lat                                40.743133\n",
       "end_lng                               -74.026989\n",
       "member_casual                             member\n",
       "Name: 0, dtype: object"
      ]
     },
     "execution_count": 5,
     "metadata": {},
     "output_type": "execute_result"
    }
   ],
   "source": [
    "df.iloc[0]"
   ]
  },
  {
   "cell_type": "code",
   "execution_count": 6,
   "metadata": {},
   "outputs": [
    {
     "data": {
      "text/plain": [
       "0         member\n",
       "1         casual\n",
       "2         casual\n",
       "3         member\n",
       "4         member\n",
       "           ...  \n",
       "118302    casual\n",
       "118303    member\n",
       "118304    member\n",
       "118305    member\n",
       "118306    member\n",
       "Name: member_casual, Length: 118307, dtype: object"
      ]
     },
     "execution_count": 6,
     "metadata": {},
     "output_type": "execute_result"
    }
   ],
   "source": [
    "df.member_casual"
   ]
  },
  {
   "cell_type": "code",
   "execution_count": null,
   "metadata": {},
   "outputs": [
    {
     "data": {
      "text/html": [
       "<div>\n",
       "<style scoped>\n",
       "    .dataframe tbody tr th:only-of-type {\n",
       "        vertical-align: middle;\n",
       "    }\n",
       "\n",
       "    .dataframe tbody tr th {\n",
       "        vertical-align: top;\n",
       "    }\n",
       "\n",
       "    .dataframe thead th {\n",
       "        text-align: right;\n",
       "    }\n",
       "</style>\n",
       "<table border=\"1\" class=\"dataframe\">\n",
       "  <thead>\n",
       "    <tr style=\"text-align: right;\">\n",
       "      <th></th>\n",
       "      <th>ride_id</th>\n",
       "      <th>rideable_type</th>\n",
       "      <th>started_at</th>\n",
       "      <th>ended_at</th>\n",
       "      <th>start_station_name</th>\n",
       "      <th>start_station_id</th>\n",
       "      <th>end_station_name</th>\n",
       "      <th>end_station_id</th>\n",
       "      <th>start_lat</th>\n",
       "      <th>start_lng</th>\n",
       "      <th>end_lat</th>\n",
       "      <th>end_lng</th>\n",
       "      <th>member_casual</th>\n",
       "    </tr>\n",
       "  </thead>\n",
       "  <tbody>\n",
       "    <tr>\n",
       "      <th>41876</th>\n",
       "      <td>D6CF3808450C131E</td>\n",
       "      <td>classic_bike</td>\n",
       "      <td>2024-10-31 23:53:54.283</td>\n",
       "      <td>2024-10-31 23:58:24.325</td>\n",
       "      <td>Grove St PATH</td>\n",
       "      <td>JC115</td>\n",
       "      <td>Jersey &amp; 3rd</td>\n",
       "      <td>JC074</td>\n",
       "      <td>40.71941</td>\n",
       "      <td>-74.04309</td>\n",
       "      <td>40.723332</td>\n",
       "      <td>-74.045953</td>\n",
       "      <td>member</td>\n",
       "    </tr>\n",
       "  </tbody>\n",
       "</table>\n",
       "</div>"
      ],
      "text/plain": [
       "                ride_id rideable_type               started_at  \\\n",
       "41876  D6CF3808450C131E  classic_bike  2024-10-31 23:53:54.283   \n",
       "\n",
       "                      ended_at start_station_name start_station_id  \\\n",
       "41876  2024-10-31 23:58:24.325      Grove St PATH            JC115   \n",
       "\n",
       "      end_station_name end_station_id  start_lat  start_lng    end_lat  \\\n",
       "41876     Jersey & 3rd          JC074   40.71941  -74.04309  40.723332   \n",
       "\n",
       "         end_lng member_casual  \n",
       "41876 -74.045953        member  "
      ]
     },
     "execution_count": 8,
     "metadata": {},
     "output_type": "execute_result"
    }
   ],
   "source": [
    "df.sort_values(by='started_at').head(n=1)"
   ]
  },
  {
   "cell_type": "markdown",
   "metadata": {},
   "source": [
    "## Lab assignments"
   ]
  },
  {
   "cell_type": "markdown",
   "metadata": {},
   "source": [
    "### Comma Code\n",
    "\n",
    "**Source:** https://automatetheboringstuff.com/2e/chapter4/\n",
    "\n",
    "Say you have a list value like this:\n",
    "\n",
    "```\n",
    "spam = ['apples', 'bananas', 'tofu', 'cats']\n",
    "``` \n",
    "\n",
    "Write a function that takes a list value as an argument and returns a string with all the items separated by a comma and a space, with and inserted before the last item. For example, passing the previous spam list to the function would return 'apples, bananas, tofu, and cats'. But your function should be able to work with any list value passed to it. Be sure to test the case where an empty list [] is passed to your function."
   ]
  },
  {
   "cell_type": "code",
   "execution_count": 61,
   "metadata": {},
   "outputs": [
    {
     "name": "stdout",
     "output_type": "stream",
     "text": [
      "apples, bananas, tofu, and cats\n"
     ]
    }
   ],
   "source": [
    "# Implement your solution here ...\n",
    "spam = ['apples', 'bananas', 'tofu', 'cats']\n",
    "\n",
    "def out(list):\n",
    "    for i,j in zip(list,range(len(list))):\n",
    "        if j < len(list) - 1:\n",
    "            print(i,end=\", \")\n",
    "        else:\n",
    "            print(\"and\",i)\n",
    "\n",
    "out(spam)"
   ]
  },
  {
   "cell_type": "markdown",
   "metadata": {},
   "source": [
    "### Coin Flip Streaks\n",
    "\n",
    "**Source:** https://automatetheboringstuff.com/2e/chapter4/\n",
    "\n",
    "For this exercise, we’ll try doing an experiment. If you flip a coin 100 times and write down an “H” for each heads and “T” for each tails, you’ll create a list that looks like “T T T T H H H H T T.” If you ask a human to make up 100 random coin flips, you’ll probably end up with alternating head-tail results like “H T H T H H T H T T,” which looks random (to humans), but isn’t mathematically random. A human will almost never write down a streak of six heads or six tails in a row, even though it is highly likely to happen in truly random coin flips. Humans are predictably bad at being random.\n",
    "\n",
    "Write a program to find out how often a streak of six heads or a streak of six tails comes up in a randomly generated list of heads and tails. Your program breaks up the experiment into two parts: the first part generates a list of randomly selected 'heads' and 'tails' values, and the second part checks if there is a streak in it. Put all of this code in a loop that repeats the experiment 10,000 times so we can find out what percentage of the coin flips contains a streak of six heads or tails in a row. As a hint, the function call random.randint(0, 1) will return a 0 value 50% of the time and a 1 value the other 50% of the time.\n",
    "\n",
    "You can start with the following template:"
   ]
  },
  {
   "cell_type": "code",
   "execution_count": null,
   "metadata": {},
   "outputs": [
    {
     "name": "stdout",
     "output_type": "stream",
     "text": [
      "Chance of streak: 80.58\n"
     ]
    }
   ],
   "source": [
    "import random as rn\n",
    "\n",
    "numberOfStreaks = 0\n",
    "for experimentNumber in range(10000):\n",
    "    # Code that creates a list of 100 'heads' or 'tails' values.\n",
    "    expList = rn.choices([\"H\",\"T\"],k=100)\n",
    "\n",
    "    # Code that checks if there is a streak of 6 heads or tails in a row. If so, increases numberOfStreaks by 1\n",
    "    numberOfStreaks += \"H\"*6 in \"\".join(expList) or \"T\"*6 in \"\".join(expList)\n",
    "    continue #?\n",
    "\n",
    "print(\"Chance of streak: %5.2f\" % (numberOfStreaks / 100))"
   ]
  },
  {
   "cell_type": "markdown",
   "metadata": {},
   "source": [
    "### Back to the dungeon!\n",
    "\n",
    "Remember [bashcrawl]() from the second lab exercise? Now we are going back the \"dungeon setting\" but **this time you will actually implement parts of the game!**\n",
    "\n",
    "#### Fantasy Game Inventory\n",
    "\n",
    "**Source:** https://automatetheboringstuff.com/2e/chapter5/\n",
    "\n",
    "You are creating a fantasy video game. The data structure to model the player’s inventory will be a dictionary where the keys are string values describing the item in the inventory and the value is an integer value detailing how many of that item the player has. For example, the dictionary value {'rope': 1, 'torch': 6, 'gold coin': 42, 'dagger': 1, 'arrow': 12} means the player has 1 rope, 6 torches, 42 gold coins, and so on.\n",
    "\n",
    "Write a function named displayInventory() that would take any possible “inventory” and display it like the following:\n",
    "\n",
    "```\n",
    "Inventory:\n",
    "12 arrow\n",
    "42 gold coin\n",
    "1 rope\n",
    "6 torch\n",
    "1 dagger\n",
    "Total number of items: 62\n",
    "``` \n",
    "**Hint:** You can use a for loop to loop through all the keys in a dictionary.\n",
    "\n",
    "You can start with the following template:"
   ]
  },
  {
   "cell_type": "code",
   "execution_count": 188,
   "metadata": {},
   "outputs": [
    {
     "name": "stdout",
     "output_type": "stream",
     "text": [
      "Inventory:\n",
      "rope: 1\n",
      "torch: 6\n",
      "gold coin: 42\n",
      "dagger: 1\n",
      "arrow: 12\n",
      "Total number of items: 62\n"
     ]
    }
   ],
   "source": [
    "stuff = {'rope': 1, 'torch': 6, 'gold coin': 42, 'dagger': 1, 'arrow': 12}\n",
    "\n",
    "def displayInventory(inventory):\n",
    "    print(\"Inventory:\")\n",
    "    item_total = sum(inventory.values())\n",
    "    for k, v in inventory.items():\n",
    "        print(f\"{k}: {v}\")\n",
    "        continue\n",
    "    print(\"Total number of items: \" + str(item_total))\n",
    "\n",
    "displayInventory(stuff)"
   ]
  },
  {
   "cell_type": "markdown",
   "metadata": {},
   "source": [
    "#### List to Dictionary Function for Fantasy Game \n",
    "\n",
    "**Source:** https://automatetheboringstuff.com/2e/chapter5/\n",
    "\n",
    "Imagine that a vanquished dragon’s loot is represented as a list of strings like this:\n",
    "\n",
    "```\n",
    "dragonLoot = ['gold coin', 'dagger', 'gold coin', 'gold coin', 'ruby']\n",
    "```\n",
    "\n",
    "Write a function named addToInventory(inventory, addedItems), where the inventory parameter is a dictionary representing the player’s inventory (like in the previous project) and the addedItems parameter is a list like dragonLoot. The addToInventory() function should return a dictionary that represents the updated inventory. Note that the addedItems list can contain multiples of the same item. \n",
    "\n",
    "The previous program (with your displayInventory() function from the previous project) would output the following:\n",
    "\n",
    "```\n",
    "Inventory:\n",
    "45 gold coin\n",
    "1 rope\n",
    "1 ruby\n",
    "1 dagger\n",
    "\n",
    "Total number of items: 48\n",
    "```\n",
    "\n",
    "Your code could look something like this:\n"
   ]
  },
  {
   "cell_type": "code",
   "execution_count": 187,
   "metadata": {},
   "outputs": [
    {
     "name": "stdout",
     "output_type": "stream",
     "text": [
      "Inventory:\n",
      "gold coin: 45\n",
      "rope: 1\n",
      "dagger: 1\n",
      "ruby: 1\n",
      "Total number of items: 4\n"
     ]
    }
   ],
   "source": [
    "def addToInventory(inventory, addedItems):\n",
    "    for i in addedItems:\n",
    "        if i in inventory:\n",
    "            inventory[i] += 1\n",
    "        else:\n",
    "            inventory[i] = 1\n",
    "    return inventory\n",
    "\n",
    "inv = {'gold coin': 42, 'rope': 1}\n",
    "dragonLoot = ['gold coin', 'dagger', 'gold coin', 'gold coin', 'ruby']\n",
    "inv = addToInventory(inv, dragonLoot)\n",
    "displayInventory(inv)"
   ]
  }
 ],
 "metadata": {
  "kernelspec": {
   "display_name": "Python 3",
   "language": "python",
   "name": "python3"
  },
  "language_info": {
   "codemirror_mode": {
    "name": "ipython",
    "version": 3
   },
   "file_extension": ".py",
   "mimetype": "text/x-python",
   "name": "python",
   "nbconvert_exporter": "python",
   "pygments_lexer": "ipython3",
   "version": "3.12.7"
  }
 },
 "nbformat": 4,
 "nbformat_minor": 2
}
